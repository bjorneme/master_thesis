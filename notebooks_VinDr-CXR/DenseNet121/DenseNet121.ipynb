{
 "cells": [
  {
   "cell_type": "markdown",
   "metadata": {},
   "source": [
    "**Import Libraries**"
   ]
  },
  {
   "cell_type": "code",
   "execution_count": 1,
   "metadata": {},
   "outputs": [],
   "source": [
    "# Standard Libraries\n",
    "import os\n",
    "import random\n",
    "\n",
    "# Data Manipulation Libraries\n",
    "import numpy as np\n",
    "import pandas as pd\n",
    "\n",
    "# Visualization Libraries\n",
    "import matplotlib.pyplot as plt\n",
    "import pydicom\n",
    "from PIL import Image\n",
    "\n",
    "# Progress Bar\n",
    "from tqdm import tqdm\n",
    "\n",
    "# Machine Learning Libraries\n",
    "import torch\n",
    "import torch.nn as nn\n",
    "import torch.optim as optim\n",
    "from torchvision import transforms, models\n",
    "from torch.utils.data import Dataset, DataLoader, random_split"
   ]
  },
  {
   "cell_type": "markdown",
   "metadata": {},
   "source": [
    "**Define Parameters**"
   ]
  },
  {
   "cell_type": "code",
   "execution_count": 2,
   "metadata": {},
   "outputs": [
    {
     "name": "stdout",
     "output_type": "stream",
     "text": [
      "Using device: cuda\n"
     ]
    }
   ],
   "source": [
    "# Paths\n",
    "ZIP_PATH = '/cluster/home/bjorneme/projects/Data/vinbigdata-chest-xray-abnormalities-detection.zip'\n",
    "EXTRACTED_PATH = '/cluster/home/bjorneme/projects/Data/vinbigdata-chest-xray-abnormalities-detection-extracted'\n",
    "\n",
    "# Define parameters\n",
    "SEED = 42\n",
    "LEARNING_RATE = 0.005\n",
    "EPOCHS =  1\n",
    "BATCH_SIZE = 16\n",
    "\n",
    "# Device Configuration\n",
    "device = torch.device(\"cuda\" if torch.cuda.is_available() else \"cpu\")\n",
    "print(f\"Using device: {device}\")"
   ]
  },
  {
   "cell_type": "markdown",
   "metadata": {},
   "source": [
    "**Set Seed for Reproducibility**"
   ]
  },
  {
   "cell_type": "code",
   "execution_count": 3,
   "metadata": {},
   "outputs": [],
   "source": [
    "def seed_everything(seed=SEED):\n",
    "    \"\"\"\n",
    "    Sets the seed to ensure reproducibility.\n",
    "    \"\"\"\n",
    "    random.seed(seed)\n",
    "    os.environ[\"PYTHONHASHSEED\"] = str(seed)\n",
    "    np.random.seed(seed)\n",
    "    torch.manual_seed(seed)\n",
    "    torch.cuda.manual_seed_all(seed)\n",
    "\n",
    "    # Ensure deterministic behavior in CUDA operations\n",
    "    torch.backends.cudnn.deterministic = True\n",
    "    torch.backends.cudnn.benchmark = False\n",
    "\n",
    "# Apply the seed\n",
    "seed_everything()"
   ]
  },
  {
   "cell_type": "markdown",
   "metadata": {},
   "source": [
    "# **Step 1: Load Data**"
   ]
  },
  {
   "cell_type": "code",
   "execution_count": 4,
   "metadata": {},
   "outputs": [],
   "source": [
    "def extract_data(zip_path, extracted_path):\n",
    "    \"\"\"\n",
    "    Extracts the ZIP file of the dataset.\n",
    "    \"\"\"\n",
    "    os.makedirs(extracted_path, exist_ok=True)\n",
    "    with zipfile.ZipFile(zip_path, 'r') as zip_ref:\n",
    "        zip_ref.extractall(extracted_path)\n",
    "    print(f\"Data extracted to {extracted_path}\")\n",
    "\n",
    "# Uncomment the line below to extract data (if not already extracted)\n",
    "# extract_data(ZIP_PATH, EXTRACTED_PATH)"
   ]
  },
  {
   "cell_type": "markdown",
   "metadata": {},
   "source": [
    "# **Step 2: Data Preprocessing**"
   ]
  },
  {
   "cell_type": "code",
   "execution_count": 5,
   "metadata": {},
   "outputs": [
    {
     "name": "stdout",
     "output_type": "stream",
     "text": [
      "Train size: 36096\n"
     ]
    }
   ],
   "source": [
    "# Define Disease Labels\n",
    "disease_labels = [\n",
    "    \"Aortic enlargement\",\n",
    "    \"Atelectasis\",\n",
    "    \"Calcification\",\n",
    "    \"Cardiomegaly\",\n",
    "    \"Consolidation\",\n",
    "    \"ILD\",\n",
    "    \"Infiltration\",\n",
    "    \"Lung Opacity\",\n",
    "    \"Nodule/Mass\",\n",
    "    \"Other lesion\",\n",
    "    \"Pleural effusion\",\n",
    "    \"Pleural thickening\",\n",
    "    \"Pneumothorax\",\n",
    "    \"Pulmonary fibrosis\"\n",
    "]\n",
    "\n",
    "def load_labels(csv_path, image_path):\n",
    "    \"\"\"\n",
    "    Loads and preprocesses the labels from the CSV file.\n",
    "    Maps each image to its corresponding file path and binary labels for each disease.\n",
    "    \"\"\"\n",
    "\n",
    "    # Read the CSV file containing labels\n",
    "    labels_df = pd.read_csv(csv_path)\n",
    "\n",
    "    # Create binary columns for each disease label\n",
    "    for disease in disease_labels:\n",
    "        labels_df[disease] = labels_df['class_name'].str.contains(disease).astype(int)\n",
    "\n",
    "    # Create a binary column for 'No Finding'\n",
    "    labels_df['No finding'] = labels_df['class_name'].apply(lambda x: 1 if 'No finding' in x else 0)\n",
    "\n",
    "    # Map image filenames to their full paths\n",
    "    labels_df['Path'] = labels_df['image_id'].map(lambda x: os.path.join(image_path, 'train', f\"{x}.dicom\"))\n",
    "    \n",
    "    return labels_df\n",
    "\n",
    "# Path to the labels CSV file\n",
    "train_csv_path = os.path.join(EXTRACTED_PATH, 'train.csv')\n",
    "# test_csv_path = os.path.join(EXTRACTED_PATH, 'test.csv')\n",
    "\n",
    "# Load and preprocess the labels\n",
    "train_val_df = load_labels(train_csv_path, EXTRACTED_PATH)\n",
    "# test_df = load_labels(test_csv_path, EXTRACTED_PATH)\n",
    "\n",
    "train_val_df = train_val_df[train_val_df['class_id'] != 14]\n",
    "\n",
    "# Verify Split Sizes\n",
    "print(f\"Train size: {train_val_df.shape[0]}\")\n",
    "# print(f\"Test size: {test_df.shape[0]}\")"
   ]
  },
  {
   "cell_type": "markdown",
   "metadata": {},
   "source": [
    "**Define Dataset for VinDr-CXR images**"
   ]
  },
  {
   "cell_type": "code",
   "execution_count": 6,
   "metadata": {},
   "outputs": [],
   "source": [
    "class ChestXrayDataset(Dataset):\n",
    "    \"\"\"\n",
    "    Custom Dataset for VinDr-CXR images.\n",
    "    \"\"\"\n",
    "    def __init__(self, df, transform=None):\n",
    "        self.df = df\n",
    "        self.transform = transform\n",
    "\n",
    "    def __len__(self):\n",
    "        return len(self.df)\n",
    "\n",
    "    def __getitem__(self, idx):\n",
    "        # Get image path and labels\n",
    "        img_path = self.df.iloc[idx]['Path']\n",
    "\n",
    "        # Retrive image\n",
    "        ds = pydicom.dcmread(img_path)\n",
    "        img_array = ds.pixel_array.astype(np.float32)\n",
    "        img_array = (img_array - np.min(img_array)) / (np.max(img_array) - np.min(img_array) + 1e-5)\n",
    "        img_array = np.stack([img_array] * 3, axis=-1)\n",
    "        image = Image.fromarray((img_array * 255).astype(np.uint8))\n",
    "\n",
    "        # Retrive boxes and labels\n",
    "        boxes = self.df.iloc[idx][['x_min', 'y_min', 'x_max', 'y_max']].values.astype(np.float32)\n",
    "        labels = self.df.iloc[idx][disease_labels].values.astype(np.float32)\n",
    "        \n",
    "        # Apply transformations\n",
    "        image = self.transform(image)\n",
    "        \n",
    "        return image, boxes, labels"
   ]
  },
  {
   "cell_type": "markdown",
   "metadata": {},
   "source": [
    "**Define Data Transformations**"
   ]
  },
  {
   "cell_type": "code",
   "execution_count": 7,
   "metadata": {},
   "outputs": [],
   "source": [
    "import torchvision.transforms as transforms\n",
    "\n",
    "# Define transformations for training data with data augmentation\n",
    "train_transforms = transforms.Compose([\n",
    "    \n",
    "    # Convert to grayscale and replicate channels to get 3 channels\n",
    "    transforms.Grayscale(num_output_channels=3),\n",
    "    \n",
    "    # Resize the image to 224x224\n",
    "    transforms.Resize((224, 224)),\n",
    "    \n",
    "    # Convert the image to a PyTorch tensor\n",
    "    transforms.ToTensor(),\n",
    "    \n",
    "    # Normalize using ImageNet mean and std\n",
    "    transforms.Normalize(mean=[0.485, 0.456, 0.406],\n",
    "                         std=[0.229, 0.224, 0.225])\n",
    "])\n",
    "\n",
    "# Define transformations for test data\n",
    "test_transforms = transforms.Compose([\n",
    "\n",
    "    # Convert to grayscale and change to 3 channels\n",
    "    transforms.Grayscale(num_output_channels=3),\n",
    "\n",
    "    # Resize the image to 224x224\n",
    "    transforms.Resize((224, 224)),\n",
    "\n",
    "    # Convert the image to a PyTorch tensor\n",
    "    transforms.ToTensor(),\n",
    "\n",
    "    # Normalize using ImageNet mean and std\n",
    "    transforms.Normalize(mean=[0.485, 0.456, 0.406],\n",
    "                         std=[0.229, 0.224, 0.225])\n",
    "])"
   ]
  },
  {
   "cell_type": "markdown",
   "metadata": {},
   "source": [
    "**Create Datasets**"
   ]
  },
  {
   "cell_type": "code",
   "execution_count": 8,
   "metadata": {},
   "outputs": [],
   "source": [
    "train_dataset = ChestXrayDataset(train_val_df, transform=train_transforms)\n",
    "# test_dataset = ChestXrayDataset(test_df, transform=test_transforms)"
   ]
  },
  {
   "cell_type": "markdown",
   "metadata": {},
   "source": [
    "**Split into Training and Validation**"
   ]
  },
  {
   "cell_type": "code",
   "execution_count": 9,
   "metadata": {},
   "outputs": [],
   "source": [
    "train_size = int(0.8 * len(train_dataset))\n",
    "val_size = len(train_dataset) - train_size\n",
    "train_dataset, val_dataset = random_split(train_dataset, [train_size, val_size])"
   ]
  },
  {
   "cell_type": "markdown",
   "metadata": {},
   "source": [
    "**Create DataLoaders**"
   ]
  },
  {
   "cell_type": "code",
   "execution_count": 10,
   "metadata": {},
   "outputs": [],
   "source": [
    "train_loader = DataLoader(train_dataset, batch_size=BATCH_SIZE, shuffle=True, num_workers=64)\n",
    "val_loader = DataLoader(val_dataset, batch_size=BATCH_SIZE, shuffle=False, num_workers=64)\n",
    "# test_loader = DataLoader(test_dataset, batch_size=BATCH_SIZE, shuffle=False, num_workers=64)"
   ]
  },
  {
   "cell_type": "markdown",
   "metadata": {},
   "source": [
    "**Plot one sample from batch**"
   ]
  },
  {
   "cell_type": "code",
   "execution_count": 11,
   "metadata": {},
   "outputs": [
    {
     "name": "stderr",
     "output_type": "stream",
     "text": [
      "Clipping input data to the valid range for imshow with RGB data ([0..1] for floats or [0..255] for integers). Got range [-2.117904..2.465708].\n"
     ]
    },
    {
     "data": {
      "image/png": "[encoded data removed]",
      "text/plain": [
       "<Figure size 640x480 with 1 Axes>"
      ]
     },
     "metadata": {},
     "output_type": "display_data"
    }
   ],
   "source": [
    "# Retrieve one batch of data from training loader\n",
    "data_iter = iter(train_loader)\n",
    "images, boxes, labels = next(data_iter)\n",
    "\n",
    "# Select the first image\n",
    "img = images[0]\n",
    "label = labels[0]\n",
    "\n",
    "# Convert to [H, W, C]\n",
    "img = img.permute(1, 2, 0)\n",
    "\n",
    "# Display\n",
    "plt.imshow(img)\n",
    "plt.axis('off')\n",
    "plt.show()"
   ]
  },
  {
   "cell_type": "markdown",
   "metadata": {},
   "source": [
    "# **Step 7: Build the Model**"
   ]
  },
  {
   "cell_type": "markdown",
   "metadata": {},
   "source": [
    "**Initialize the Object Detection Model**"
   ]
  },
  {
   "cell_type": "code",
   "execution_count": 12,
   "metadata": {},
   "outputs": [],
   "source": [
    "import torch\n",
    "import torch.nn as nn\n",
    "import torch.nn.functional as F\n",
    "import torchvision.models as models\n",
    "\n",
    "\n",
    "class ObjectDetectionModel(nn.Module):\n",
    "    \"\"\"\n",
    "    Pre-trained DenseNet121 with separate classification and regression heads.\n",
    "    \"\"\"\n",
    "    def __init__(self, num_classes=len(disease_labels)):\n",
    "        super(ObjectDetectionModel, self).__init__()\n",
    "        # Load pre-trained DenseNet121 model\n",
    "        base_model = models.densenet121(weights=models.DenseNet121_Weights.IMAGENET1K_V1)\n",
    "        \n",
    "        # We only use the convolutional features from DenseNet121\n",
    "        self.features = base_model.features  \n",
    "        # Get the number of features from DenseNet121's classifier input\n",
    "        in_features = base_model.classifier.in_features\n",
    "        \n",
    "        # Define separate heads:\n",
    "        # Classification head: predicts disease labels (multi-class)\n",
    "        self.classifier = nn.Linear(in_features, num_classes)\n",
    "        # Regression head: predicts 4 bounding box coordinates (x_min, y_min, x_max, y_max)\n",
    "        self.regressor = nn.Linear(in_features, 4)\n",
    "\n",
    "    def forward(self, x):\n",
    "        # Extract convolutional features\n",
    "        features = self.features(x)  # shape: [B, C, H, W]\n",
    "        # Apply ReLU (DenseNet applies this before pooling)\n",
    "        out = F.relu(features, inplace=True)\n",
    "        # Global average pooling to get a feature vector of shape [B, C, 1, 1]\n",
    "        out = F.adaptive_avg_pool2d(out, (1, 1))\n",
    "        # Flatten to shape [B, C]\n",
    "        out = torch.flatten(out, 1)\n",
    "        \n",
    "        # Pass the feature vector to the two heads\n",
    "        class_preds = self.classifier(out)\n",
    "        bbox_preds = self.regressor(out)\n",
    "        \n",
    "        return class_preds, bbox_preds\n",
    "\n",
    "# Initialize the model and move it to the desired device.\n",
    "device = torch.device(\"cuda\" if torch.cuda.is_available() else \"cpu\")\n",
    "model = ObjectDetectionModel(num_classes=len(disease_labels))\n",
    "model.to(device)\n",
    "model = nn.DataParallel(model)"
   ]
  },
  {
   "cell_type": "markdown",
   "metadata": {},
   "source": [
    "**Use Multiple GPUs**"
   ]
  },
  {
   "cell_type": "code",
   "execution_count": 13,
   "metadata": {},
   "outputs": [],
   "source": [
    "model = nn.DataParallel(model)"
   ]
  },
  {
   "cell_type": "markdown",
   "metadata": {},
   "source": [
    "**Define Loss Function and Optimizer**"
   ]
  },
  {
   "cell_type": "code",
   "execution_count": 14,
   "metadata": {},
   "outputs": [],
   "source": [
    "optimizer = optim.Adam(model.parameters(), lr=LEARNING_RATE)\n",
    "\n",
    "# Regression loss for bounding boxes\n",
    "reg_loss_fn = nn.SmoothL1Loss()\n",
    "\n",
    "# Classification loss\n",
    "cls_loss_fn = nn.CrossEntropyLoss()"
   ]
  },
  {
   "cell_type": "markdown",
   "metadata": {},
   "source": [
    "# **Step 8: Train the Model**"
   ]
  },
  {
   "cell_type": "code",
   "execution_count": 15,
   "metadata": {},
   "outputs": [
    {
     "name": "stdout",
     "output_type": "stream",
     "text": [
      "Requirement already satisfied: torchmetrics[detection] in /cluster/home/bjorneme/.conda/envs/master_thesis/lib/python3.11/site-packages (1.6.0)\n",
      "Requirement already satisfied: numpy>1.20.0 in /cluster/home/bjorneme/.conda/envs/master_thesis/lib/python3.11/site-packages (from torchmetrics[detection]) (2.0.2)\n",
      "Requirement already satisfied: packaging>17.1 in /cluster/home/bjorneme/.conda/envs/master_thesis/lib/python3.11/site-packages (from torchmetrics[detection]) (24.2)\n",
      "Requirement already satisfied: torch>=2.0.0 in /cluster/home/bjorneme/.local/lib/python3.11/site-packages (from torchmetrics[detection]) (2.4.1)\n",
      "Requirement already satisfied: lightning-utilities>=0.8.0 in /cluster/home/bjorneme/.conda/envs/master_thesis/lib/python3.11/site-packages (from torchmetrics[detection]) (0.11.9)\n",
      "Requirement already satisfied: pycocotools>2.0.0 in /cluster/home/bjorneme/.conda/envs/master_thesis/lib/python3.11/site-packages (from torchmetrics[detection]) (2.0.8)\n",
      "Requirement already satisfied: torchvision>=0.15.1 in /cluster/home/bjorneme/.local/lib/python3.11/site-packages (from torchmetrics[detection]) (0.19.1)\n",
      "Requirement already satisfied: setuptools in /cluster/home/bjorneme/.conda/envs/master_thesis/lib/python3.11/site-packages (from lightning-utilities>=0.8.0->torchmetrics[detection]) (75.1.0)\n",
      "Requirement already satisfied: typing-extensions in /cluster/home/bjorneme/.local/lib/python3.11/site-packages (from lightning-utilities>=0.8.0->torchmetrics[detection]) (4.12.2)\n",
      "Requirement already satisfied: matplotlib>=2.1.0 in /cluster/home/bjorneme/.conda/envs/master_thesis/lib/python3.11/site-packages (from pycocotools>2.0.0->torchmetrics[detection]) (3.9.2)\n",
      "Requirement already satisfied: filelock in /cluster/home/bjorneme/.local/lib/python3.11/site-packages (from torch>=2.0.0->torchmetrics[detection]) (3.16.1)\n",
      "Requirement already satisfied: sympy in /cluster/home/bjorneme/.local/lib/python3.11/site-packages (from torch>=2.0.0->torchmetrics[detection]) (1.13.2)\n",
      "Requirement already satisfied: networkx in /cluster/home/bjorneme/.local/lib/python3.11/site-packages (from torch>=2.0.0->torchmetrics[detection]) (3.3)\n",
      "Requirement already satisfied: jinja2 in /cluster/home/bjorneme/.local/lib/python3.11/site-packages (from torch>=2.0.0->torchmetrics[detection]) (3.1.4)\n",
      "Requirement already satisfied: fsspec in /cluster/home/bjorneme/.local/lib/python3.11/site-packages (from torch>=2.0.0->torchmetrics[detection]) (2024.9.0)\n",
      "Requirement already satisfied: nvidia-cuda-nvrtc-cu12==12.1.105 in /cluster/home/bjorneme/.local/lib/python3.11/site-packages (from torch>=2.0.0->torchmetrics[detection]) (12.1.105)\n",
      "Requirement already satisfied: nvidia-cuda-runtime-cu12==12.1.105 in /cluster/home/bjorneme/.local/lib/python3.11/site-packages (from torch>=2.0.0->torchmetrics[detection]) (12.1.105)\n",
      "Requirement already satisfied: nvidia-cuda-cupti-cu12==12.1.105 in /cluster/home/bjorneme/.local/lib/python3.11/site-packages (from torch>=2.0.0->torchmetrics[detection]) (12.1.105)\n",
      "Requirement already satisfied: nvidia-cudnn-cu12==9.1.0.70 in /cluster/home/bjorneme/.local/lib/python3.11/site-packages (from torch>=2.0.0->torchmetrics[detection]) (9.1.0.70)\n",
      "Requirement already satisfied: nvidia-cublas-cu12==12.1.3.1 in /cluster/home/bjorneme/.local/lib/python3.11/site-packages (from torch>=2.0.0->torchmetrics[detection]) (12.1.3.1)\n",
      "Requirement already satisfied: nvidia-cufft-cu12==11.0.2.54 in /cluster/home/bjorneme/.local/lib/python3.11/site-packages (from torch>=2.0.0->torchmetrics[detection]) (11.0.2.54)\n",
      "Requirement already satisfied: nvidia-curand-cu12==10.3.2.106 in /cluster/home/bjorneme/.local/lib/python3.11/site-packages (from torch>=2.0.0->torchmetrics[detection]) (10.3.2.106)\n",
      "Requirement already satisfied: nvidia-cusolver-cu12==11.4.5.107 in /cluster/home/bjorneme/.local/lib/python3.11/site-packages (from torch>=2.0.0->torchmetrics[detection]) (11.4.5.107)\n",
      "Requirement already satisfied: nvidia-cusparse-cu12==12.1.0.106 in /cluster/home/bjorneme/.local/lib/python3.11/site-packages (from torch>=2.0.0->torchmetrics[detection]) (12.1.0.106)\n",
      "Requirement already satisfied: nvidia-nccl-cu12==2.20.5 in /cluster/home/bjorneme/.local/lib/python3.11/site-packages (from torch>=2.0.0->torchmetrics[detection]) (2.20.5)\n",
      "Requirement already satisfied: nvidia-nvtx-cu12==12.1.105 in /cluster/home/bjorneme/.local/lib/python3.11/site-packages (from torch>=2.0.0->torchmetrics[detection]) (12.1.105)\n",
      "Requirement already satisfied: triton==3.0.0 in /cluster/home/bjorneme/.local/lib/python3.11/site-packages (from torch>=2.0.0->torchmetrics[detection]) (3.0.0)\n",
      "Requirement already satisfied: nvidia-nvjitlink-cu12 in /cluster/home/bjorneme/.local/lib/python3.11/site-packages (from nvidia-cusolver-cu12==11.4.5.107->torch>=2.0.0->torchmetrics[detection]) (12.6.68)\n",
      "Requirement already satisfied: pillow!=8.3.*,>=5.3.0 in /cluster/home/bjorneme/.local/lib/python3.11/site-packages (from torchvision>=0.15.1->torchmetrics[detection]) (10.4.0)\n",
      "Requirement already satisfied: contourpy>=1.0.1 in /cluster/home/bjorneme/.conda/envs/master_thesis/lib/python3.11/site-packages (from matplotlib>=2.1.0->pycocotools>2.0.0->torchmetrics[detection]) (1.3.1)\n",
      "Requirement already satisfied: cycler>=0.10 in /cluster/home/bjorneme/.conda/envs/master_thesis/lib/python3.11/site-packages (from matplotlib>=2.1.0->pycocotools>2.0.0->torchmetrics[detection]) (0.12.1)\n",
      "Requirement already satisfied: fonttools>=4.22.0 in /cluster/home/bjorneme/.conda/envs/master_thesis/lib/python3.11/site-packages (from matplotlib>=2.1.0->pycocotools>2.0.0->torchmetrics[detection]) (4.55.0)\n",
      "Requirement already satisfied: kiwisolver>=1.3.1 in /cluster/home/bjorneme/.conda/envs/master_thesis/lib/python3.11/site-packages (from matplotlib>=2.1.0->pycocotools>2.0.0->torchmetrics[detection]) (1.4.7)\n",
      "Requirement already satisfied: pyparsing>=2.3.1 in /cluster/home/bjorneme/.conda/envs/master_thesis/lib/python3.11/site-packages (from matplotlib>=2.1.0->pycocotools>2.0.0->torchmetrics[detection]) (3.2.0)\n",
      "Requirement already satisfied: python-dateutil>=2.7 in /cluster/home/bjorneme/.local/lib/python3.11/site-packages (from matplotlib>=2.1.0->pycocotools>2.0.0->torchmetrics[detection]) (2.9.0.post0)\n",
      "Requirement already satisfied: MarkupSafe>=2.0 in /cluster/home/bjorneme/.local/lib/python3.11/site-packages (from jinja2->torch>=2.0.0->torchmetrics[detection]) (2.1.5)\n",
      "Requirement already satisfied: mpmath<1.4,>=1.1.0 in /cluster/home/bjorneme/.local/lib/python3.11/site-packages (from sympy->torch>=2.0.0->torchmetrics[detection]) (1.3.0)\n",
      "Requirement already satisfied: six>=1.5 in /cluster/home/bjorneme/.local/lib/python3.11/site-packages (from python-dateutil>=2.7->matplotlib>=2.1.0->pycocotools>2.0.0->torchmetrics[detection]) (1.16.0)\n",
      "Note: you may need to restart the kernel to use updated packages.\n"
     ]
    }
   ],
   "source": [
    "pip install torchmetrics[detection]"
   ]
  },
  {
   "cell_type": "code",
   "execution_count": 16,
   "metadata": {},
   "outputs": [
    {
     "name": "stdout",
     "output_type": "stream",
     "text": [
      "Requirement already satisfied: pycocotools in /cluster/home/bjorneme/.conda/envs/master_thesis/lib/python3.11/site-packages (2.0.8)\n",
      "Requirement already satisfied: matplotlib>=2.1.0 in /cluster/home/bjorneme/.conda/envs/master_thesis/lib/python3.11/site-packages (from pycocotools) (3.9.2)\n",
      "Requirement already satisfied: numpy in /cluster/home/bjorneme/.conda/envs/master_thesis/lib/python3.11/site-packages (from pycocotools) (2.0.2)\n",
      "Requirement already satisfied: contourpy>=1.0.1 in /cluster/home/bjorneme/.conda/envs/master_thesis/lib/python3.11/site-packages (from matplotlib>=2.1.0->pycocotools) (1.3.1)\n",
      "Requirement already satisfied: cycler>=0.10 in /cluster/home/bjorneme/.conda/envs/master_thesis/lib/python3.11/site-packages (from matplotlib>=2.1.0->pycocotools) (0.12.1)\n",
      "Requirement already satisfied: fonttools>=4.22.0 in /cluster/home/bjorneme/.conda/envs/master_thesis/lib/python3.11/site-packages (from matplotlib>=2.1.0->pycocotools) (4.55.0)\n",
      "Requirement already satisfied: kiwisolver>=1.3.1 in /cluster/home/bjorneme/.conda/envs/master_thesis/lib/python3.11/site-packages (from matplotlib>=2.1.0->pycocotools) (1.4.7)\n",
      "Requirement already satisfied: packaging>=20.0 in /cluster/home/bjorneme/.conda/envs/master_thesis/lib/python3.11/site-packages (from matplotlib>=2.1.0->pycocotools) (24.2)\n",
      "Requirement already satisfied: pillow>=8 in /cluster/home/bjorneme/.local/lib/python3.11/site-packages (from matplotlib>=2.1.0->pycocotools) (10.4.0)\n",
      "Requirement already satisfied: pyparsing>=2.3.1 in /cluster/home/bjorneme/.conda/envs/master_thesis/lib/python3.11/site-packages (from matplotlib>=2.1.0->pycocotools) (3.2.0)\n",
      "Requirement already satisfied: python-dateutil>=2.7 in /cluster/home/bjorneme/.local/lib/python3.11/site-packages (from matplotlib>=2.1.0->pycocotools) (2.9.0.post0)\n",
      "Requirement already satisfied: six>=1.5 in /cluster/home/bjorneme/.local/lib/python3.11/site-packages (from python-dateutil>=2.7->matplotlib>=2.1.0->pycocotools) (1.16.0)\n",
      "Note: you may need to restart the kernel to use updated packages.\n"
     ]
    }
   ],
   "source": [
    "pip install pycocotools"
   ]
  },
  {
   "cell_type": "code",
   "execution_count": 17,
   "metadata": {},
   "outputs": [
    {
     "name": "stdout",
     "output_type": "stream",
     "text": [
      "Requirement already satisfied: faster-coco-eval in /cluster/home/bjorneme/.conda/envs/master_thesis/lib/python3.11/site-packages (1.6.5)\n",
      "Requirement already satisfied: numpy in /cluster/home/bjorneme/.conda/envs/master_thesis/lib/python3.11/site-packages (from faster-coco-eval) (2.0.2)\n",
      "Requirement already satisfied: plotly in /cluster/home/bjorneme/.conda/envs/master_thesis/lib/python3.11/site-packages (from faster-coco-eval) (5.24.1)\n",
      "Requirement already satisfied: pandas in /cluster/home/bjorneme/.local/lib/python3.11/site-packages (from faster-coco-eval) (2.2.2)\n",
      "Requirement already satisfied: Pillow in /cluster/home/bjorneme/.local/lib/python3.11/site-packages (from faster-coco-eval) (10.4.0)\n",
      "Requirement already satisfied: python-dateutil>=2.8.2 in /cluster/home/bjorneme/.local/lib/python3.11/site-packages (from pandas->faster-coco-eval) (2.9.0.post0)\n",
      "Requirement already satisfied: pytz>=2020.1 in /cluster/home/bjorneme/.local/lib/python3.11/site-packages (from pandas->faster-coco-eval) (2024.2)\n",
      "Requirement already satisfied: tzdata>=2022.7 in /cluster/home/bjorneme/.local/lib/python3.11/site-packages (from pandas->faster-coco-eval) (2024.1)\n",
      "Requirement already satisfied: tenacity>=6.2.0 in /cluster/home/bjorneme/.conda/envs/master_thesis/lib/python3.11/site-packages (from plotly->faster-coco-eval) (9.0.0)\n",
      "Requirement already satisfied: packaging in /cluster/home/bjorneme/.conda/envs/master_thesis/lib/python3.11/site-packages (from plotly->faster-coco-eval) (24.2)\n",
      "Requirement already satisfied: six>=1.5 in /cluster/home/bjorneme/.local/lib/python3.11/site-packages (from python-dateutil>=2.8.2->pandas->faster-coco-eval) (1.16.0)\n",
      "Note: you may need to restart the kernel to use updated packages.\n"
     ]
    }
   ],
   "source": [
    "pip install faster-coco-eval"
   ]
  },
  {
   "cell_type": "code",
   "execution_count": 20,
   "metadata": {},
   "outputs": [
    {
     "name": "stderr",
     "output_type": "stream",
     "text": [
      "Epoch 1/1:   0%|          | 0/1805 [00:29<?, ?it/s]\n",
      "Epoch 1/1 (Val): 100%|██████████| 452/452 [02:22<00:00,  3.18it/s]\n"
     ]
    },
    {
     "name": "stdout",
     "output_type": "stream",
     "text": [
      "Epoch 1 - mAP@0.5:0.95: 0.0000\n",
      "Epoch 1 - mAP@0.5: 0.0000\n",
      "Epoch 1/1 - Train Loss: 0.0000, Val Loss: 471.5876, mAP@0.5:0.95: 0.0000\n"
     ]
    }
   ],
   "source": [
    "from torchmetrics.detection.mean_ap import MeanAveragePrecision\n",
    "\n",
    "def train_model(model, train_loader, val_loader, reg_loss_fn, cls_loss_fn, optimizer, epochs=10):\n",
    "\n",
    "    \"\"\"\n",
    "    Trains the model and evaluates it on the validation set after each epoch.\n",
    "    \"\"\"\n",
    "\n",
    "    # List to store loss and mAP\n",
    "    train_losses = []\n",
    "    val_losses = []\n",
    "    val_mAP = []\n",
    "\n",
    "    for epoch in range(epochs):\n",
    "\n",
    "        # Training\n",
    "        model.train()\n",
    "        train_loss = 0.0\n",
    "\n",
    "        # Progress bar\n",
    "        progress_bar = tqdm(train_loader, desc=f\"Epoch {epoch+1}/{epochs}\")\n",
    "\n",
    "        for inputs, boxes, labels in progress_bar:\n",
    "            break\n",
    "            \n",
    "            inputs, boxes, labels = inputs.to(device), boxes.to(device), labels.to(device)\n",
    "\n",
    "            # Clear gradients\n",
    "            optimizer.zero_grad()\n",
    "\n",
    "            # Forward pass\n",
    "            class_preds, bbox_preds = model(inputs)\n",
    "\n",
    "            # Compute loss\n",
    "            loss_bbox = reg_loss_fn(bbox_preds, boxes)\n",
    "            loss_class = cls_loss_fn(class_preds, labels)\n",
    "            loss = loss_bbox + loss_class\n",
    "\n",
    "            # Backward pass\n",
    "            loss.backward()\n",
    "\n",
    "            # Update weights\n",
    "            optimizer.step()\n",
    "\n",
    "            train_loss += loss.item() * inputs.size(0)\n",
    "            progress_bar.set_postfix({\"Loss\": loss.item()})\n",
    "\n",
    "        # Calculate average training loss\n",
    "        train_loss /= len(train_loader.dataset)\n",
    "        train_losses.append(train_loss)\n",
    "\n",
    "        # -----------------\n",
    "        # Validation Phase\n",
    "        # -----------------\n",
    "        model.eval()\n",
    "        val_loss = 0.0\n",
    "        all_preds = []\n",
    "        all_targets = []\n",
    "\n",
    "        progress_bar = tqdm(val_loader, desc=f\"Epoch {epoch+1}/{epochs} (Val)\")\n",
    "        with torch.no_grad():\n",
    "            for inputs, boxes, labels in progress_bar:\n",
    "                inputs, boxes, labels = inputs.to(device), boxes.to(device), labels.to(device)\n",
    "\n",
    "                class_preds, bbox_preds = model(inputs)\n",
    "\n",
    "                loss_bbox = reg_loss_fn(bbox_preds, boxes)\n",
    "                loss_class = cls_loss_fn(class_preds, labels)\n",
    "                loss = loss_bbox + loss_class\n",
    "                val_loss += loss.item() * inputs.size(0)\n",
    "\n",
    "                # Get predicted labels for the batch\n",
    "                pred_labels = torch.argmax(class_preds, dim=1)\n",
    "\n",
    "                # Loop over the batch to create prediction/target dictionaries for each image.\n",
    "                for i in range(inputs.size(0)):\n",
    "                    # --- Prediction Dictionary ---\n",
    "                    pred_box = bbox_preds[i]\n",
    "                    if pred_box.ndim == 1:\n",
    "                        pred_box = pred_box.unsqueeze(0)\n",
    "                    confidence = class_preds[i, pred_labels[i]]\n",
    "                    pred = {\n",
    "                        \"boxes\": pred_box.cpu(),                           # Tensor of shape [N, 4]\n",
    "                        \"scores\": confidence.unsqueeze(0).cpu(),           # Tensor of shape [N]\n",
    "                        \"labels\": pred_labels[i].unsqueeze(0).cpu()          # Tensor of shape [N]\n",
    "                    }\n",
    "\n",
    "                    # --- Target Dictionary ---\n",
    "                    gt_box = boxes[i]\n",
    "                    if gt_box.ndim == 1:\n",
    "                        gt_box = gt_box.unsqueeze(0)\n",
    "                    \n",
    "                    # Process labels: if the label tensor has more than one element (likely one-hot),\n",
    "                    # convert it to a class index using argmax.\n",
    "                    gt_labels = labels[i].cpu()\n",
    "                    if gt_labels.ndim > 0 and gt_labels.numel() > 1:\n",
    "                        gt_labels = torch.argmax(gt_labels)\n",
    "                    # Ensure it is a tensor of shape [N] by unsqueezing if needed.\n",
    "                    if gt_labels.ndim == 0:\n",
    "                        gt_labels = gt_labels.unsqueeze(0)\n",
    "                    \n",
    "                    target = {\n",
    "                        \"boxes\": gt_box.cpu(),    # Tensor of shape [N, 4]\n",
    "                        \"labels\": gt_labels         # Tensor of shape [N]\n",
    "                    }\n",
    "\n",
    "                    all_preds.append(pred)\n",
    "                    all_targets.append(target)\n",
    "\n",
    "\n",
    "        # Compute average validation loss\n",
    "        epoch_val_loss = val_loss / len(val_loader.dataset)\n",
    "        val_losses.append(epoch_val_loss)\n",
    "\n",
    "        # -----------------\n",
    "        # mAP Calculation using TorchMetrics\n",
    "        # -----------------\n",
    "        # mAP@0.5:0.95 (default IoU thresholds)\n",
    "        metric_default = MeanAveragePrecision()\n",
    "        metric_default.update(all_preds, all_targets)\n",
    "        result_default = metric_default.compute()\n",
    "        mAP_default = result_default[\"map\"]\n",
    "        print(f\"Epoch {epoch+1} - mAP@0.5:0.95: {mAP_default:.4f}\")\n",
    "\n",
    "        # mAP@0.5 (IoU threshold fixed at 0.5)\n",
    "        metric_50 = MeanAveragePrecision(iou_thresholds=[0.5])\n",
    "        metric_50.update(all_preds, all_targets)\n",
    "        result_50 = metric_50.compute()\n",
    "        mAP_50 = result_50[\"map\"]\n",
    "        print(f\"Epoch {epoch+1} - mAP@0.5: {mAP_50:.4f}\")\n",
    "\n",
    "        # Save mAP from default metric\n",
    "        val_mAP.append(mAP_default)\n",
    "\n",
    "        print(f\"Epoch {epoch+1}/{epochs} - Train Loss: {train_loss:.4f}, Val Loss: {epoch_val_loss:.4f}, mAP@0.5:0.95: {mAP_default:.4f}\")\n",
    "\n",
    "    return train_losses, val_losses, val_mAP\n",
    "\n",
    "# Example usage:\n",
    "train_losses, val_losses, val_mAP = train_model(model, train_loader, val_loader, reg_loss_fn, cls_loss_fn, optimizer, epochs=EPOCHS)"
   ]
  },
  {
   "cell_type": "markdown",
   "metadata": {},
   "source": [
    "# **Step 8: Evaluate the Model**"
   ]
  },
  {
   "cell_type": "code",
   "execution_count": null,
   "metadata": {},
   "outputs": [],
   "source": [
    "# TODO"
   ]
  }
 ],
 "metadata": {
  "kernelspec": {
   "display_name": "master_thesis",
   "language": "python",
   "name": "master_thesis"
  },
  "language_info": {
   "codemirror_mode": {
    "name": "ipython",
    "version": 3
   },
   "file_extension": ".py",
   "mimetype": "text/x-python",
   "name": "python",
   "nbconvert_exporter": "python",
   "pygments_lexer": "ipython3",
   "version": "3.11.10"
  }
 },
 "nbformat": 4,
 "nbformat_minor": 2
}
