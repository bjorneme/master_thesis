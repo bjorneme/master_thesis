{
 "cells": [
  {
   "cell_type": "markdown",
   "metadata": {},
   "source": [
    "**Import Libraries**"
   ]
  },
  {
   "cell_type": "code",
   "execution_count": 1,
   "metadata": {},
   "outputs": [
    {
     "name": "stderr",
     "output_type": "stream",
     "text": [
      "/cluster/home/bjorneme/.conda/envs/master_thesis/lib/python3.11/site-packages/tqdm/auto.py:21: TqdmWarning: IProgress not found. Please update jupyter and ipywidgets. See https://ipywidgets.readthedocs.io/en/stable/user_install.html\n",
      "  from .autonotebook import tqdm as notebook_tqdm\n"
     ]
    }
   ],
   "source": [
    "# Standard Libraries\n",
    "import os\n",
    "import copy\n",
    "import random\n",
    "from glob import glob\n",
    "from PIL import Image\n",
    "import timm\n",
    "\n",
    "# Data Manipulation Libraries\n",
    "import pandas as pd\n",
    "import numpy as np\n",
    "\n",
    "# Visualization Libraries\n",
    "import matplotlib.pyplot as plt\n",
    "\n",
    "# Progress Bar\n",
    "from tqdm import tqdm\n",
    "\n",
    "# Machine Learning Libraries\n",
    "import torch\n",
    "import torch.nn as nn\n",
    "import torch.optim as optim\n",
    "from torch.utils.data import Dataset, DataLoader, random_split\n",
    "from torchvision import transforms, models\n",
    "from sklearn.model_selection import train_test_split\n",
    "from lightly.loss import NTXentLoss\n",
    "from lightly.transforms.byol_transform import BYOLTransform, BYOLView1Transform, BYOLView2Transform\n",
    "from lightly.models.modules import BYOLProjectionHead, BYOLPredictionHead\n",
    "from lightly.models.utils import deactivate_requires_grad, update_momentum\n",
    "from lightly.loss import NegativeCosineSimilarity\n",
    "from lightly.utils.scheduler import cosine_schedule\n",
    "from sklearn.metrics import accuracy_score, roc_auc_score, roc_curve, auc"
   ]
  },
  {
   "cell_type": "markdown",
   "metadata": {},
   "source": [
    "**Define Parameters**"
   ]
  },
  {
   "cell_type": "code",
   "execution_count": 2,
   "metadata": {},
   "outputs": [
    {
     "name": "stdout",
     "output_type": "stream",
     "text": [
      "Using device: cuda\n"
     ]
    }
   ],
   "source": [
    "# Paths\n",
    "ZIP_PATH = '/cluster/home/bjorneme/projects/Data/chestX-ray14.zip'\n",
    "EXTRACTED_PATH = '/cluster/home/bjorneme/projects/Data/chestX-ray14-extracted'\n",
    "\n",
    "# Define parameters\n",
    "SEED = 42\n",
    "\n",
    "# Parameteres fine tuning\n",
    "LEARNING_RATE = 1e-2\n",
    "TEST_SIZE = 0.8\n",
    "EPOCHS = 6\n",
    "BATCH_SIZE = 32\n",
    "\n",
    "# Device Configuration\n",
    "device = torch.device(\"cuda\" if torch.cuda.is_available() else \"cpu\")\n",
    "print(f\"Using device: {device}\")"
   ]
  },
  {
   "cell_type": "markdown",
   "metadata": {},
   "source": [
    "**Set Seed for Reproducibility**"
   ]
  },
  {
   "cell_type": "code",
   "execution_count": 3,
   "metadata": {},
   "outputs": [],
   "source": [
    "def seed_everything(seed=SEED):\n",
    "    \"\"\"\n",
    "    Sets the seed to ensure reproducibility.\n",
    "    \"\"\"\n",
    "    random.seed(seed)\n",
    "    os.environ[\"PYTHONHASHSEED\"] = str(seed)\n",
    "    np.random.seed(seed)\n",
    "    torch.manual_seed(seed)\n",
    "    torch.cuda.manual_seed_all(seed)\n",
    "\n",
    "    # Ensure deterministic behavior in CUDA operations\n",
    "    torch.backends.cudnn.deterministic = True\n",
    "    torch.backends.cudnn.benchmark = False\n",
    "\n",
    "# Apply the seed\n",
    "seed_everything()"
   ]
  },
  {
   "cell_type": "markdown",
   "metadata": {},
   "source": [
    "# **Step 1: Load Data (Stage 1)**"
   ]
  },
  {
   "cell_type": "code",
   "execution_count": 4,
   "metadata": {},
   "outputs": [],
   "source": [
    "def extract_data(zip_path, extracted_path):\n",
    "    \"\"\"\n",
    "    Extracts the ZIP file of the dataset.\n",
    "    \"\"\"\n",
    "    os.makedirs(extracted_path, exist_ok=True)\n",
    "    with zipfile.ZipFile(zip_path, 'r') as zip_ref:\n",
    "        zip_ref.extractall(extracted_path)\n",
    "    print(f\"Data extracted to {extracted_path}\")\n",
    "\n",
    "# Uncomment the line below to extract data (if not already extracted)\n",
    "# extract_data(ZIP_PATH, EXTRACTED_PATH)"
   ]
  },
  {
   "cell_type": "markdown",
   "metadata": {},
   "source": [
    "# **Step 2: Data Preprocessing (Stage 1)**"
   ]
  },
  {
   "cell_type": "code",
   "execution_count": 5,
   "metadata": {},
   "outputs": [],
   "source": [
    "# Define Disease Labels\n",
    "disease_labels = [\n",
    "    'Atelectasis', 'Consolidation', 'Infiltration', 'Pneumothorax', 'Edema',\n",
    "    'Emphysema', 'Fibrosis', 'Effusion', 'Pneumonia', 'Pleural_Thickening',\n",
    "    'Cardiomegaly', 'Nodule', 'Mass', 'Hernia'\n",
    "]\n",
    "\n",
    "def load_labels(csv_path, image_path):\n",
    "    \"\"\"\n",
    "    Loads and preprocesses the labels from the CSV file.\n",
    "    Maps each image to its corresponding file path and binary labels for each disease.\n",
    "    \"\"\"\n",
    "\n",
    "    # Read the CSV file containing labels\n",
    "    labels_df = pd.read_csv(csv_path)\n",
    "\n",
    "    # Create binary columns for each disease label\n",
    "    for disease in disease_labels:\n",
    "        labels_df[disease] = labels_df['Finding Labels'].str.contains(disease).astype(int)\n",
    "\n",
    "    # Create a binary column for 'No Finding'\n",
    "    labels_df['No_Finding'] = labels_df['Finding Labels'].apply(lambda x: 1 if 'No Finding' in x else 0)\n",
    "\n",
    "    # Map image filenames to their full paths\n",
    "    image_paths = glob(os.path.join(image_path, '**', 'images', '*.png'), recursive=True)\n",
    "    img_path_dict = {os.path.basename(path): path for path in image_paths}\n",
    "\n",
    "    # Add the full image path to the dataframe\n",
    "    labels_df['Path'] = labels_df['Image Index'].map(img_path_dict)\n",
    "    return labels_df\n",
    "\n",
    "# Path to the labels CSV file\n",
    "labels_csv_path = os.path.join(EXTRACTED_PATH, 'Data_Entry_2017.csv')\n",
    "\n",
    "# Load and preprocess the labels\n",
    "labels_df = load_labels(labels_csv_path, EXTRACTED_PATH)"
   ]
  },
  {
   "cell_type": "markdown",
   "metadata": {},
   "source": [
    "**Split Dataset**"
   ]
  },
  {
   "cell_type": "code",
   "execution_count": 6,
   "metadata": {},
   "outputs": [
    {
     "name": "stdout",
     "output_type": "stream",
     "text": [
      "Train size: 41466\n",
      "Test size: 10293\n"
     ]
    }
   ],
   "source": [
    "# Remove all No finding labels for stage 1 training\n",
    "labels_df_stage_2 = labels_df\n",
    "labels_df = labels_df[labels_df['No_Finding'] != 1]\n",
    "\n",
    "# Split patients into training/validation and test sets\n",
    "unique_patients = labels_df['Patient ID'].unique()\n",
    "train_val_patients, test_patients = train_test_split(\n",
    "    unique_patients, test_size=0.2, random_state=SEED\n",
    ")\n",
    "\n",
    "# Create training/validation and test dataframes\n",
    "train_val_df = labels_df[labels_df['Patient ID'].isin(train_val_patients)].reset_index(drop=True)\n",
    "test_df = labels_df[labels_df['Patient ID'].isin(test_patients)].reset_index(drop=True)\n",
    "\n",
    "# Verify Split Sizes\n",
    "print(f\"Train size: {train_val_df.shape[0]}\")\n",
    "print(f\"Test size: {test_df.shape[0]}\")"
   ]
  },
  {
   "cell_type": "markdown",
   "metadata": {},
   "source": [
    "**Define Dataset for Chest X-ray images**"
   ]
  },
  {
   "cell_type": "code",
   "execution_count": 7,
   "metadata": {},
   "outputs": [],
   "source": [
    "class ChestXrayDataset(Dataset):\n",
    "    \"\"\"\n",
    "    Custom Dataset for Chest X-ray images.\n",
    "    \"\"\"\n",
    "    def __init__(self, df, transform=None):\n",
    "        self.df = df\n",
    "        self.transform = transform\n",
    "\n",
    "    def __len__(self):\n",
    "        return len(self.df)\n",
    "\n",
    "    def __getitem__(self, idx):\n",
    "        # Get image path and labels\n",
    "        img_path = self.df.iloc[idx]['Path']\n",
    "        image = plt.imread(img_path)\n",
    "        label = self.df.iloc[idx][disease_labels].values.astype(np.float32)\n",
    "        \n",
    "        # Apply transformations if any\n",
    "        if self.transform:\n",
    "            image = self.transform(image)\n",
    "        \n",
    "        return image, label"
   ]
  },
  {
   "cell_type": "markdown",
   "metadata": {},
   "source": [
    "**Define Data Transformations**"
   ]
  },
  {
   "cell_type": "code",
   "execution_count": 8,
   "metadata": {},
   "outputs": [],
   "source": [
    "# Define transformations for training data\n",
    "train_transforms = transforms.Compose([\n",
    "\n",
    "    # Convert image to PIL format for further transformations\n",
    "    transforms.ToPILImage(),\n",
    "    \n",
    "    # Convert to grayscale and change to 3 channels\n",
    "    transforms.Grayscale(num_output_channels=3),\n",
    "\n",
    "    # Resize the image to 224x224\n",
    "    transforms.Resize((224, 224)),\n",
    "\n",
    "    # Apply random horizontal flip to augment the data\n",
    "    transforms.RandomHorizontalFlip(),\n",
    "\n",
    "    # Randomly rotate the image within a range of ±10 degrees\n",
    "    transforms.RandomRotation(10),\n",
    "\n",
    "    # Convert the image to a PyTorch tensor\n",
    "    transforms.ToTensor(),\n",
    "\n",
    "    # Normalize using ImageNet mean and std\n",
    "    transforms.Normalize(mean=[0.485, 0.456, 0.406],\n",
    "                         std=[0.229, 0.224, 0.225])\n",
    "])\n",
    "\n",
    "# Define transformations for test data\n",
    "test_transforms = transforms.Compose([\n",
    "\n",
    "    # Convert image to PIL format for further transformations\n",
    "    transforms.ToPILImage(),\n",
    "\n",
    "    # Convert to grayscale and change to 3 channels\n",
    "    transforms.Grayscale(num_output_channels=3),\n",
    "\n",
    "    # Resize the image to 224x224\n",
    "    transforms.Resize((224, 224)),\n",
    "\n",
    "    # Convert the image to a PyTorch tensor\n",
    "    transforms.ToTensor(),\n",
    "\n",
    "    # Normalize using ImageNet mean and std\n",
    "    transforms.Normalize(mean=[0.485, 0.456, 0.406],\n",
    "                         std=[0.229, 0.224, 0.225])\n",
    "])"
   ]
  },
  {
   "cell_type": "markdown",
   "metadata": {},
   "source": [
    "**Create Datasets**"
   ]
  },
  {
   "cell_type": "code",
   "execution_count": 9,
   "metadata": {},
   "outputs": [],
   "source": [
    "train_dataset = ChestXrayDataset(train_val_df, transform=train_transforms)\n",
    "test_dataset = ChestXrayDataset(test_df, transform=test_transforms)"
   ]
  },
  {
   "cell_type": "markdown",
   "metadata": {},
   "source": [
    "**Split into Training and Validation**"
   ]
  },
  {
   "cell_type": "code",
   "execution_count": 10,
   "metadata": {},
   "outputs": [],
   "source": [
    "train_size = int(TEST_SIZE * len(train_dataset))\n",
    "val_size = len(train_dataset) - train_size\n",
    "train_dataset, val_dataset = random_split(train_dataset, [train_size, val_size])"
   ]
  },
  {
   "cell_type": "markdown",
   "metadata": {},
   "source": [
    "**Create DataLoaders**"
   ]
  },
  {
   "cell_type": "code",
   "execution_count": 11,
   "metadata": {},
   "outputs": [],
   "source": [
    "train_loader = DataLoader(train_dataset, batch_size=BATCH_SIZE, shuffle=True, num_workers=8)\n",
    "val_loader = DataLoader(val_dataset, batch_size=BATCH_SIZE, shuffle=False, num_workers=8)\n",
    "test_loader = DataLoader(test_dataset, batch_size=BATCH_SIZE, shuffle=False, num_workers=8)"
   ]
  },
  {
   "cell_type": "markdown",
   "metadata": {},
   "source": [
    "# **Step 3: Build the Model (Stage 1)**"
   ]
  },
  {
   "cell_type": "markdown",
   "metadata": {},
   "source": [
    "**Initialize the Multi-Label Classifier Model**"
   ]
  },
  {
   "cell_type": "code",
   "execution_count": 12,
   "metadata": {},
   "outputs": [
    {
     "data": {
      "text/plain": [
       "MultiLabelClassifier(\n",
       "  (base_model): MaxxVit(\n",
       "    (stem): Stem(\n",
       "      (conv1): Conv2d(3, 32, kernel_size=(3, 3), stride=(2, 2), padding=(1, 1), bias=False)\n",
       "      (norm1): BatchNormAct2d(\n",
       "        32, eps=1e-05, momentum=0.1, affine=True, track_running_stats=True\n",
       "        (drop): Identity()\n",
       "        (act): SiLU(inplace=True)\n",
       "      )\n",
       "      (conv2): Conv2d(32, 64, kernel_size=(3, 3), stride=(1, 1), padding=(1, 1), bias=False)\n",
       "    )\n",
       "    (stages): Sequential(\n",
       "      (0): MaxxVitStage(\n",
       "        (blocks): Sequential(\n",
       "          (0): MbConvBlock(\n",
       "            (shortcut): Downsample2d(\n",
       "              (pool): AvgPool2d(kernel_size=2, stride=2, padding=0)\n",
       "              (expand): Conv2d(64, 96, kernel_size=(1, 1), stride=(1, 1), bias=False)\n",
       "            )\n",
       "            (pre_norm): BatchNormAct2d(\n",
       "              64, eps=1e-05, momentum=0.1, affine=True, track_running_stats=True\n",
       "              (drop): Identity()\n",
       "              (act): SiLU(inplace=True)\n",
       "            )\n",
       "            (down): Downsample2d(\n",
       "              (pool): AvgPool2d(kernel_size=2, stride=2, padding=0)\n",
       "              (expand): Identity()\n",
       "            )\n",
       "            (conv1_1x1): Conv2d(64, 256, kernel_size=(1, 1), stride=(1, 1), bias=False)\n",
       "            (norm1): BatchNormAct2d(\n",
       "              256, eps=1e-05, momentum=0.1, affine=True, track_running_stats=True\n",
       "              (drop): Identity()\n",
       "              (act): SiLU(inplace=True)\n",
       "            )\n",
       "            (conv2_kxk): Conv2d(256, 256, kernel_size=(3, 3), stride=(1, 1), padding=(1, 1), groups=256, bias=False)\n",
       "            (se_early): SEModule(\n",
       "              (fc1): Conv2d(256, 64, kernel_size=(1, 1), stride=(1, 1))\n",
       "              (bn): Identity()\n",
       "              (act): ReLU(inplace=True)\n",
       "              (fc2): Conv2d(64, 256, kernel_size=(1, 1), stride=(1, 1))\n",
       "              (gate): Sigmoid()\n",
       "            )\n",
       "            (norm2): BatchNormAct2d(\n",
       "              256, eps=1e-05, momentum=0.1, affine=True, track_running_stats=True\n",
       "              (drop): Identity()\n",
       "              (act): SiLU(inplace=True)\n",
       "            )\n",
       "            (conv3_1x1): Conv2d(256, 96, kernel_size=(1, 1), stride=(1, 1), bias=False)\n",
       "            (drop_path): Identity()\n",
       "          )\n",
       "          (1): MbConvBlock(\n",
       "            (shortcut): Identity()\n",
       "            (pre_norm): BatchNormAct2d(\n",
       "              96, eps=1e-05, momentum=0.1, affine=True, track_running_stats=True\n",
       "              (drop): Identity()\n",
       "              (act): SiLU(inplace=True)\n",
       "            )\n",
       "            (down): Identity()\n",
       "            (conv1_1x1): Conv2d(96, 384, kernel_size=(1, 1), stride=(1, 1), bias=False)\n",
       "            (norm1): BatchNormAct2d(\n",
       "              384, eps=1e-05, momentum=0.1, affine=True, track_running_stats=True\n",
       "              (drop): Identity()\n",
       "              (act): SiLU(inplace=True)\n",
       "            )\n",
       "            (conv2_kxk): Conv2d(384, 384, kernel_size=(3, 3), stride=(1, 1), padding=(1, 1), groups=384, bias=False)\n",
       "            (se_early): SEModule(\n",
       "              (fc1): Conv2d(384, 96, kernel_size=(1, 1), stride=(1, 1))\n",
       "              (bn): Identity()\n",
       "              (act): ReLU(inplace=True)\n",
       "              (fc2): Conv2d(96, 384, kernel_size=(1, 1), stride=(1, 1))\n",
       "              (gate): Sigmoid()\n",
       "            )\n",
       "            (norm2): BatchNormAct2d(\n",
       "              384, eps=1e-05, momentum=0.1, affine=True, track_running_stats=True\n",
       "              (drop): Identity()\n",
       "              (act): SiLU(inplace=True)\n",
       "            )\n",
       "            (conv3_1x1): Conv2d(384, 96, kernel_size=(1, 1), stride=(1, 1), bias=False)\n",
       "            (drop_path): Identity()\n",
       "          )\n",
       "        )\n",
       "      )\n",
       "      (1): MaxxVitStage(\n",
       "        (blocks): Sequential(\n",
       "          (0): MbConvBlock(\n",
       "            (shortcut): Downsample2d(\n",
       "              (pool): AvgPool2d(kernel_size=2, stride=2, padding=0)\n",
       "              (expand): Conv2d(96, 192, kernel_size=(1, 1), stride=(1, 1), bias=False)\n",
       "            )\n",
       "            (pre_norm): BatchNormAct2d(\n",
       "              96, eps=1e-05, momentum=0.1, affine=True, track_running_stats=True\n",
       "              (drop): Identity()\n",
       "              (act): SiLU(inplace=True)\n",
       "            )\n",
       "            (down): Downsample2d(\n",
       "              (pool): AvgPool2d(kernel_size=2, stride=2, padding=0)\n",
       "              (expand): Identity()\n",
       "            )\n",
       "            (conv1_1x1): Conv2d(96, 384, kernel_size=(1, 1), stride=(1, 1), bias=False)\n",
       "            (norm1): BatchNormAct2d(\n",
       "              384, eps=1e-05, momentum=0.1, affine=True, track_running_stats=True\n",
       "              (drop): Identity()\n",
       "              (act): SiLU(inplace=True)\n",
       "            )\n",
       "            (conv2_kxk): Conv2d(384, 384, kernel_size=(3, 3), stride=(1, 1), padding=(1, 1), groups=384, bias=False)\n",
       "            (se_early): SEModule(\n",
       "              (fc1): Conv2d(384, 96, kernel_size=(1, 1), stride=(1, 1))\n",
       "              (bn): Identity()\n",
       "              (act): ReLU(inplace=True)\n",
       "              (fc2): Conv2d(96, 384, kernel_size=(1, 1), stride=(1, 1))\n",
       "              (gate): Sigmoid()\n",
       "            )\n",
       "            (norm2): BatchNormAct2d(\n",
       "              384, eps=1e-05, momentum=0.1, affine=True, track_running_stats=True\n",
       "              (drop): Identity()\n",
       "              (act): SiLU(inplace=True)\n",
       "            )\n",
       "            (conv3_1x1): Conv2d(384, 192, kernel_size=(1, 1), stride=(1, 1), bias=False)\n",
       "            (drop_path): Identity()\n",
       "          )\n",
       "          (1): MbConvBlock(\n",
       "            (shortcut): Identity()\n",
       "            (pre_norm): BatchNormAct2d(\n",
       "              192, eps=1e-05, momentum=0.1, affine=True, track_running_stats=True\n",
       "              (drop): Identity()\n",
       "              (act): SiLU(inplace=True)\n",
       "            )\n",
       "            (down): Identity()\n",
       "            (conv1_1x1): Conv2d(192, 768, kernel_size=(1, 1), stride=(1, 1), bias=False)\n",
       "            (norm1): BatchNormAct2d(\n",
       "              768, eps=1e-05, momentum=0.1, affine=True, track_running_stats=True\n",
       "              (drop): Identity()\n",
       "              (act): SiLU(inplace=True)\n",
       "            )\n",
       "            (conv2_kxk): Conv2d(768, 768, kernel_size=(3, 3), stride=(1, 1), padding=(1, 1), groups=768, bias=False)\n",
       "            (se_early): SEModule(\n",
       "              (fc1): Conv2d(768, 192, kernel_size=(1, 1), stride=(1, 1))\n",
       "              (bn): Identity()\n",
       "              (act): ReLU(inplace=True)\n",
       "              (fc2): Conv2d(192, 768, kernel_size=(1, 1), stride=(1, 1))\n",
       "              (gate): Sigmoid()\n",
       "            )\n",
       "            (norm2): BatchNormAct2d(\n",
       "              768, eps=1e-05, momentum=0.1, affine=True, track_running_stats=True\n",
       "              (drop): Identity()\n",
       "              (act): SiLU(inplace=True)\n",
       "            )\n",
       "            (conv3_1x1): Conv2d(768, 192, kernel_size=(1, 1), stride=(1, 1), bias=False)\n",
       "            (drop_path): Identity()\n",
       "          )\n",
       "          (2): MbConvBlock(\n",
       "            (shortcut): Identity()\n",
       "            (pre_norm): BatchNormAct2d(\n",
       "              192, eps=1e-05, momentum=0.1, affine=True, track_running_stats=True\n",
       "              (drop): Identity()\n",
       "              (act): SiLU(inplace=True)\n",
       "            )\n",
       "            (down): Identity()\n",
       "            (conv1_1x1): Conv2d(192, 768, kernel_size=(1, 1), stride=(1, 1), bias=False)\n",
       "            (norm1): BatchNormAct2d(\n",
       "              768, eps=1e-05, momentum=0.1, affine=True, track_running_stats=True\n",
       "              (drop): Identity()\n",
       "              (act): SiLU(inplace=True)\n",
       "            )\n",
       "            (conv2_kxk): Conv2d(768, 768, kernel_size=(3, 3), stride=(1, 1), padding=(1, 1), groups=768, bias=False)\n",
       "            (se_early): SEModule(\n",
       "              (fc1): Conv2d(768, 192, kernel_size=(1, 1), stride=(1, 1))\n",
       "              (bn): Identity()\n",
       "              (act): ReLU(inplace=True)\n",
       "              (fc2): Conv2d(192, 768, kernel_size=(1, 1), stride=(1, 1))\n",
       "              (gate): Sigmoid()\n",
       "            )\n",
       "            (norm2): BatchNormAct2d(\n",
       "              768, eps=1e-05, momentum=0.1, affine=True, track_running_stats=True\n",
       "              (drop): Identity()\n",
       "              (act): SiLU(inplace=True)\n",
       "            )\n",
       "            (conv3_1x1): Conv2d(768, 192, kernel_size=(1, 1), stride=(1, 1), bias=False)\n",
       "            (drop_path): Identity()\n",
       "          )\n",
       "        )\n",
       "      )\n",
       "      (2): MaxxVitStage(\n",
       "        (blocks): Sequential(\n",
       "          (0): TransformerBlock2d(\n",
       "            (shortcut): Downsample2d(\n",
       "              (pool): AvgPool2d(kernel_size=2, stride=2, padding=0)\n",
       "              (expand): Conv2d(192, 384, kernel_size=(1, 1), stride=(1, 1), bias=False)\n",
       "            )\n",
       "            (norm1): Sequential(\n",
       "              (norm): LayerNorm2d((192,), eps=1e-06, elementwise_affine=True)\n",
       "              (down): Downsample2d(\n",
       "                (pool): AvgPool2d(kernel_size=2, stride=2, padding=0)\n",
       "                (expand): Identity()\n",
       "              )\n",
       "            )\n",
       "            (attn): Attention2d(\n",
       "              (qkv): Conv2d(192, 576, kernel_size=(1, 1), stride=(1, 1))\n",
       "              (rel_pos): RelPosBias()\n",
       "              (attn_drop): Dropout(p=0.0, inplace=False)\n",
       "              (proj): Conv2d(192, 384, kernel_size=(1, 1), stride=(1, 1))\n",
       "              (proj_drop): Dropout(p=0.0, inplace=False)\n",
       "            )\n",
       "            (ls1): Identity()\n",
       "            (drop_path1): Identity()\n",
       "            (norm2): LayerNorm2d((384,), eps=1e-06, elementwise_affine=True)\n",
       "            (mlp): ConvMlp(\n",
       "              (fc1): Conv2d(384, 1536, kernel_size=(1, 1), stride=(1, 1))\n",
       "              (norm): Identity()\n",
       "              (act): GELU()\n",
       "              (drop): Dropout(p=0.0, inplace=False)\n",
       "              (fc2): Conv2d(1536, 384, kernel_size=(1, 1), stride=(1, 1))\n",
       "            )\n",
       "            (ls2): Identity()\n",
       "            (drop_path2): Identity()\n",
       "          )\n",
       "          (1): TransformerBlock2d(\n",
       "            (shortcut): Identity()\n",
       "            (norm1): LayerNorm2d((384,), eps=1e-06, elementwise_affine=True)\n",
       "            (attn): Attention2d(\n",
       "              (qkv): Conv2d(384, 1152, kernel_size=(1, 1), stride=(1, 1))\n",
       "              (rel_pos): RelPosBias()\n",
       "              (attn_drop): Dropout(p=0.0, inplace=False)\n",
       "              (proj): Conv2d(384, 384, kernel_size=(1, 1), stride=(1, 1))\n",
       "              (proj_drop): Dropout(p=0.0, inplace=False)\n",
       "            )\n",
       "            (ls1): Identity()\n",
       "            (drop_path1): Identity()\n",
       "            (norm2): LayerNorm2d((384,), eps=1e-06, elementwise_affine=True)\n",
       "            (mlp): ConvMlp(\n",
       "              (fc1): Conv2d(384, 1536, kernel_size=(1, 1), stride=(1, 1))\n",
       "              (norm): Identity()\n",
       "              (act): GELU()\n",
       "              (drop): Dropout(p=0.0, inplace=False)\n",
       "              (fc2): Conv2d(1536, 384, kernel_size=(1, 1), stride=(1, 1))\n",
       "            )\n",
       "            (ls2): Identity()\n",
       "            (drop_path2): Identity()\n",
       "          )\n",
       "          (2): TransformerBlock2d(\n",
       "            (shortcut): Identity()\n",
       "            (norm1): LayerNorm2d((384,), eps=1e-06, elementwise_affine=True)\n",
       "            (attn): Attention2d(\n",
       "              (qkv): Conv2d(384, 1152, kernel_size=(1, 1), stride=(1, 1))\n",
       "              (rel_pos): RelPosBias()\n",
       "              (attn_drop): Dropout(p=0.0, inplace=False)\n",
       "              (proj): Conv2d(384, 384, kernel_size=(1, 1), stride=(1, 1))\n",
       "              (proj_drop): Dropout(p=0.0, inplace=False)\n",
       "            )\n",
       "            (ls1): Identity()\n",
       "            (drop_path1): Identity()\n",
       "            (norm2): LayerNorm2d((384,), eps=1e-06, elementwise_affine=True)\n",
       "            (mlp): ConvMlp(\n",
       "              (fc1): Conv2d(384, 1536, kernel_size=(1, 1), stride=(1, 1))\n",
       "              (norm): Identity()\n",
       "              (act): GELU()\n",
       "              (drop): Dropout(p=0.0, inplace=False)\n",
       "              (fc2): Conv2d(1536, 384, kernel_size=(1, 1), stride=(1, 1))\n",
       "            )\n",
       "            (ls2): Identity()\n",
       "            (drop_path2): Identity()\n",
       "          )\n",
       "          (3): TransformerBlock2d(\n",
       "            (shortcut): Identity()\n",
       "            (norm1): LayerNorm2d((384,), eps=1e-06, elementwise_affine=True)\n",
       "            (attn): Attention2d(\n",
       "              (qkv): Conv2d(384, 1152, kernel_size=(1, 1), stride=(1, 1))\n",
       "              (rel_pos): RelPosBias()\n",
       "              (attn_drop): Dropout(p=0.0, inplace=False)\n",
       "              (proj): Conv2d(384, 384, kernel_size=(1, 1), stride=(1, 1))\n",
       "              (proj_drop): Dropout(p=0.0, inplace=False)\n",
       "            )\n",
       "            (ls1): Identity()\n",
       "            (drop_path1): Identity()\n",
       "            (norm2): LayerNorm2d((384,), eps=1e-06, elementwise_affine=True)\n",
       "            (mlp): ConvMlp(\n",
       "              (fc1): Conv2d(384, 1536, kernel_size=(1, 1), stride=(1, 1))\n",
       "              (norm): Identity()\n",
       "              (act): GELU()\n",
       "              (drop): Dropout(p=0.0, inplace=False)\n",
       "              (fc2): Conv2d(1536, 384, kernel_size=(1, 1), stride=(1, 1))\n",
       "            )\n",
       "            (ls2): Identity()\n",
       "            (drop_path2): Identity()\n",
       "          )\n",
       "          (4): TransformerBlock2d(\n",
       "            (shortcut): Identity()\n",
       "            (norm1): LayerNorm2d((384,), eps=1e-06, elementwise_affine=True)\n",
       "            (attn): Attention2d(\n",
       "              (qkv): Conv2d(384, 1152, kernel_size=(1, 1), stride=(1, 1))\n",
       "              (rel_pos): RelPosBias()\n",
       "              (attn_drop): Dropout(p=0.0, inplace=False)\n",
       "              (proj): Conv2d(384, 384, kernel_size=(1, 1), stride=(1, 1))\n",
       "              (proj_drop): Dropout(p=0.0, inplace=False)\n",
       "            )\n",
       "            (ls1): Identity()\n",
       "            (drop_path1): Identity()\n",
       "            (norm2): LayerNorm2d((384,), eps=1e-06, elementwise_affine=True)\n",
       "            (mlp): ConvMlp(\n",
       "              (fc1): Conv2d(384, 1536, kernel_size=(1, 1), stride=(1, 1))\n",
       "              (norm): Identity()\n",
       "              (act): GELU()\n",
       "              (drop): Dropout(p=0.0, inplace=False)\n",
       "              (fc2): Conv2d(1536, 384, kernel_size=(1, 1), stride=(1, 1))\n",
       "            )\n",
       "            (ls2): Identity()\n",
       "            (drop_path2): Identity()\n",
       "          )\n",
       "          (5): TransformerBlock2d(\n",
       "            (shortcut): Identity()\n",
       "            (norm1): LayerNorm2d((384,), eps=1e-06, elementwise_affine=True)\n",
       "            (attn): Attention2d(\n",
       "              (qkv): Conv2d(384, 1152, kernel_size=(1, 1), stride=(1, 1))\n",
       "              (rel_pos): RelPosBias()\n",
       "              (attn_drop): Dropout(p=0.0, inplace=False)\n",
       "              (proj): Conv2d(384, 384, kernel_size=(1, 1), stride=(1, 1))\n",
       "              (proj_drop): Dropout(p=0.0, inplace=False)\n",
       "            )\n",
       "            (ls1): Identity()\n",
       "            (drop_path1): Identity()\n",
       "            (norm2): LayerNorm2d((384,), eps=1e-06, elementwise_affine=True)\n",
       "            (mlp): ConvMlp(\n",
       "              (fc1): Conv2d(384, 1536, kernel_size=(1, 1), stride=(1, 1))\n",
       "              (norm): Identity()\n",
       "              (act): GELU()\n",
       "              (drop): Dropout(p=0.0, inplace=False)\n",
       "              (fc2): Conv2d(1536, 384, kernel_size=(1, 1), stride=(1, 1))\n",
       "            )\n",
       "            (ls2): Identity()\n",
       "            (drop_path2): Identity()\n",
       "          )\n",
       "          (6): TransformerBlock2d(\n",
       "            (shortcut): Identity()\n",
       "            (norm1): LayerNorm2d((384,), eps=1e-06, elementwise_affine=True)\n",
       "            (attn): Attention2d(\n",
       "              (qkv): Conv2d(384, 1152, kernel_size=(1, 1), stride=(1, 1))\n",
       "              (rel_pos): RelPosBias()\n",
       "              (attn_drop): Dropout(p=0.0, inplace=False)\n",
       "              (proj): Conv2d(384, 384, kernel_size=(1, 1), stride=(1, 1))\n",
       "              (proj_drop): Dropout(p=0.0, inplace=False)\n",
       "            )\n",
       "            (ls1): Identity()\n",
       "            (drop_path1): Identity()\n",
       "            (norm2): LayerNorm2d((384,), eps=1e-06, elementwise_affine=True)\n",
       "            (mlp): ConvMlp(\n",
       "              (fc1): Conv2d(384, 1536, kernel_size=(1, 1), stride=(1, 1))\n",
       "              (norm): Identity()\n",
       "              (act): GELU()\n",
       "              (drop): Dropout(p=0.0, inplace=False)\n",
       "              (fc2): Conv2d(1536, 384, kernel_size=(1, 1), stride=(1, 1))\n",
       "            )\n",
       "            (ls2): Identity()\n",
       "            (drop_path2): Identity()\n",
       "          )\n",
       "        )\n",
       "      )\n",
       "      (3): MaxxVitStage(\n",
       "        (blocks): Sequential(\n",
       "          (0): TransformerBlock2d(\n",
       "            (shortcut): Downsample2d(\n",
       "              (pool): AvgPool2d(kernel_size=2, stride=2, padding=0)\n",
       "              (expand): Conv2d(384, 768, kernel_size=(1, 1), stride=(1, 1), bias=False)\n",
       "            )\n",
       "            (norm1): Sequential(\n",
       "              (norm): LayerNorm2d((384,), eps=1e-06, elementwise_affine=True)\n",
       "              (down): Downsample2d(\n",
       "                (pool): AvgPool2d(kernel_size=2, stride=2, padding=0)\n",
       "                (expand): Identity()\n",
       "              )\n",
       "            )\n",
       "            (attn): Attention2d(\n",
       "              (qkv): Conv2d(384, 1152, kernel_size=(1, 1), stride=(1, 1))\n",
       "              (rel_pos): RelPosBias()\n",
       "              (attn_drop): Dropout(p=0.0, inplace=False)\n",
       "              (proj): Conv2d(384, 768, kernel_size=(1, 1), stride=(1, 1))\n",
       "              (proj_drop): Dropout(p=0.0, inplace=False)\n",
       "            )\n",
       "            (ls1): Identity()\n",
       "            (drop_path1): Identity()\n",
       "            (norm2): LayerNorm2d((768,), eps=1e-06, elementwise_affine=True)\n",
       "            (mlp): ConvMlp(\n",
       "              (fc1): Conv2d(768, 3072, kernel_size=(1, 1), stride=(1, 1))\n",
       "              (norm): Identity()\n",
       "              (act): GELU()\n",
       "              (drop): Dropout(p=0.0, inplace=False)\n",
       "              (fc2): Conv2d(3072, 768, kernel_size=(1, 1), stride=(1, 1))\n",
       "            )\n",
       "            (ls2): Identity()\n",
       "            (drop_path2): Identity()\n",
       "          )\n",
       "          (1): TransformerBlock2d(\n",
       "            (shortcut): Identity()\n",
       "            (norm1): LayerNorm2d((768,), eps=1e-06, elementwise_affine=True)\n",
       "            (attn): Attention2d(\n",
       "              (qkv): Conv2d(768, 2304, kernel_size=(1, 1), stride=(1, 1))\n",
       "              (rel_pos): RelPosBias()\n",
       "              (attn_drop): Dropout(p=0.0, inplace=False)\n",
       "              (proj): Conv2d(768, 768, kernel_size=(1, 1), stride=(1, 1))\n",
       "              (proj_drop): Dropout(p=0.0, inplace=False)\n",
       "            )\n",
       "            (ls1): Identity()\n",
       "            (drop_path1): Identity()\n",
       "            (norm2): LayerNorm2d((768,), eps=1e-06, elementwise_affine=True)\n",
       "            (mlp): ConvMlp(\n",
       "              (fc1): Conv2d(768, 3072, kernel_size=(1, 1), stride=(1, 1))\n",
       "              (norm): Identity()\n",
       "              (act): GELU()\n",
       "              (drop): Dropout(p=0.0, inplace=False)\n",
       "              (fc2): Conv2d(3072, 768, kernel_size=(1, 1), stride=(1, 1))\n",
       "            )\n",
       "            (ls2): Identity()\n",
       "            (drop_path2): Identity()\n",
       "          )\n",
       "        )\n",
       "      )\n",
       "    )\n",
       "    (norm): LayerNorm2d((768,), eps=1e-06, elementwise_affine=True)\n",
       "    (head): ClassifierHead(\n",
       "      (global_pool): SelectAdaptivePool2d(pool_type=avg, flatten=Flatten(start_dim=1, end_dim=-1))\n",
       "      (drop): Dropout(p=0.0, inplace=False)\n",
       "      (fc): Linear(in_features=768, out_features=14, bias=True)\n",
       "      (flatten): Identity()\n",
       "    )\n",
       "  )\n",
       ")"
      ]
     },
     "execution_count": 12,
     "metadata": {},
     "output_type": "execute_result"
    }
   ],
   "source": [
    "# Define the model\n",
    "class MultiLabelClassifier(nn.Module):\n",
    "    \"\"\"\n",
    "    Multi-Label Classification Model using Swin Transformer as the base model.\n",
    "    \"\"\"\n",
    "    def __init__(self, num_classes=len(disease_labels)):\n",
    "        super(MultiLabelClassifier, self).__init__()\n",
    "\n",
    "        # Load pre-trained Swin Transformer model\n",
    "        self.base_model = timm.create_model('coatnet_0_rw_224.sw_in1k')\n",
    "\n",
    "        # Replace the classification head to match the number of disease labels\n",
    "        self.base_model.head.fc = nn.Linear(self.base_model.head.fc.in_features, num_classes)\n",
    "\n",
    "    def forward(self, x):\n",
    "        return self.base_model(x)\n",
    "\n",
    "# Initialize the Model\n",
    "model = MultiLabelClassifier()\n",
    "model.to(device)"
   ]
  },
  {
   "cell_type": "markdown",
   "metadata": {},
   "source": [
    "**Define Loss Function and Optimizer**"
   ]
  },
  {
   "cell_type": "code",
   "execution_count": 13,
   "metadata": {},
   "outputs": [],
   "source": [
    "criterion = nn.BCEWithLogitsLoss()\n",
    "optimizer = optim.Adam(model.parameters(), lr=LEARNING_RATE)"
   ]
  },
  {
   "cell_type": "markdown",
   "metadata": {},
   "source": [
    "# **Step 4: Train the Model (Stage 1)**"
   ]
  },
  {
   "cell_type": "markdown",
   "metadata": {},
   "source": [
    "**Step 1: Train Classification Head Only**"
   ]
  },
  {
   "cell_type": "code",
   "execution_count": 14,
   "metadata": {},
   "outputs": [],
   "source": [
    "# Freeze the backbone parameters\n",
    "for name, param in model.named_parameters():\n",
    "    if \"head\" not in name:\n",
    "        param.requires_grad = False"
   ]
  },
  {
   "cell_type": "code",
   "execution_count": 15,
   "metadata": {},
   "outputs": [],
   "source": [
    "# Only the classifier parameters will be updated\n",
    "optimizer_head = optim.Adam(filter(lambda p: p.requires_grad, model.parameters()), lr=LEARNING_RATE)\n",
    "criterion = nn.BCEWithLogitsLoss()\n",
    "scheduler = optim.lr_scheduler.StepLR(optimizer_head, step_size=2, gamma=0.1)"
   ]
  },
  {
   "cell_type": "code",
   "execution_count": 16,
   "metadata": {},
   "outputs": [
    {
     "name": "stderr",
     "output_type": "stream",
     "text": [
      "Epoch 1/6:   0%|          | 0/1037 [00:00<?, ?it/s]"
     ]
    },
    {
     "name": "stderr",
     "output_type": "stream",
     "text": [
      "Epoch 1/6: 100%|██████████| 1037/1037 [04:21<00:00,  3.97it/s, Loss=0.309]\n",
      "Epoch 1/6: 100%|██████████| 260/260 [01:05<00:00,  3.99it/s, Loss=0.388]\n"
     ]
    },
    {
     "name": "stdout",
     "output_type": "stream",
     "text": [
      "Epoch 1/6 | Training Loss: 0.3427 | Validation Loss: 0.3452 | Mean Validation AUC: 0.6150\n"
     ]
    },
    {
     "name": "stderr",
     "output_type": "stream",
     "text": [
      "Epoch 2/6: 100%|██████████| 1037/1037 [02:26<00:00,  7.09it/s, Loss=0.244]\n",
      "Epoch 2/6: 100%|██████████| 260/260 [00:37<00:00,  6.88it/s, Loss=0.377]\n"
     ]
    },
    {
     "name": "stdout",
     "output_type": "stream",
     "text": [
      "Epoch 2/6 | Training Loss: 0.3367 | Validation Loss: 0.3506 | Mean Validation AUC: 0.6180\n"
     ]
    },
    {
     "name": "stderr",
     "output_type": "stream",
     "text": [
      "Epoch 3/6: 100%|██████████| 1037/1037 [02:28<00:00,  7.00it/s, Loss=0.353]\n",
      "Epoch 3/6: 100%|██████████| 260/260 [00:40<00:00,  6.44it/s, Loss=0.345]\n"
     ]
    },
    {
     "name": "stdout",
     "output_type": "stream",
     "text": [
      "Epoch 3/6 | Training Loss: 0.2949 | Validation Loss: 0.2941 | Mean Validation AUC: 0.6545\n"
     ]
    },
    {
     "name": "stderr",
     "output_type": "stream",
     "text": [
      "Epoch 4/6: 100%|██████████| 1037/1037 [03:35<00:00,  4.81it/s, Loss=0.32] \n",
      "Epoch 4/6: 100%|██████████| 260/260 [00:55<00:00,  4.65it/s, Loss=0.334]\n"
     ]
    },
    {
     "name": "stdout",
     "output_type": "stream",
     "text": [
      "Epoch 4/6 | Training Loss: 0.2942 | Validation Loss: 0.2956 | Mean Validation AUC: 0.6555\n"
     ]
    },
    {
     "name": "stderr",
     "output_type": "stream",
     "text": [
      "Epoch 5/6: 100%|██████████| 1037/1037 [03:36<00:00,  4.78it/s, Loss=0.254]\n",
      "Epoch 5/6: 100%|██████████| 260/260 [00:55<00:00,  4.66it/s, Loss=0.33] \n"
     ]
    },
    {
     "name": "stdout",
     "output_type": "stream",
     "text": [
      "Epoch 5/6 | Training Loss: 0.2896 | Validation Loss: 0.2905 | Mean Validation AUC: 0.6624\n"
     ]
    },
    {
     "name": "stderr",
     "output_type": "stream",
     "text": [
      "Epoch 6/6: 100%|██████████| 1037/1037 [03:37<00:00,  4.77it/s, Loss=0.315]\n",
      "Epoch 6/6: 100%|██████████| 260/260 [00:55<00:00,  4.67it/s, Loss=0.34] "
     ]
    },
    {
     "name": "stdout",
     "output_type": "stream",
     "text": [
      "Epoch 6/6 | Training Loss: 0.2894 | Validation Loss: 0.2907 | Mean Validation AUC: 0.6625\n"
     ]
    },
    {
     "name": "stderr",
     "output_type": "stream",
     "text": [
      "\n"
     ]
    }
   ],
   "source": [
    "def train_model(model, train_loader, val_loader, criterion, optimizer, epochs=10):\n",
    "\n",
    "    \"\"\"\n",
    "    Trains the model and evaluates it on the validation set after each epoch.\n",
    "    \"\"\"\n",
    "    # List to store loss and AUC\n",
    "    train_losses = []\n",
    "    val_losses = []\n",
    "    val_aucs = []\n",
    "\n",
    "    for epoch in range(epochs):\n",
    "\n",
    "        # Training\n",
    "        model.train()\n",
    "        train_loss = 0.0\n",
    "\n",
    "        # Progress bar\n",
    "        progress_bar = tqdm(train_loader, desc=f\"Epoch {epoch+1}/{epochs}\")\n",
    "\n",
    "        for inputs, labels in progress_bar:\n",
    "            inputs, labels = inputs.to(device), labels.to(device)\n",
    "\n",
    "            # Clear gradients\n",
    "            optimizer.zero_grad()\n",
    "\n",
    "            # Forward pass\n",
    "            outputs = model(inputs)\n",
    "\n",
    "            # Compute loss\n",
    "            loss = criterion(outputs, labels)\n",
    "\n",
    "            # Backward pass\n",
    "            loss.backward()\n",
    "\n",
    "            # Update weights\n",
    "            optimizer.step()\n",
    "\n",
    "            train_loss += loss.item() * inputs.size(0)\n",
    "            progress_bar.set_postfix({\"Loss\": loss.item()})\n",
    "\n",
    "        # Calculate average training loss\n",
    "        train_loss /= len(train_loader.dataset)\n",
    "        train_losses.append(train_loss)\n",
    "\n",
    "        # Validation\n",
    "        model.eval()\n",
    "        val_loss = 0.0\n",
    "        all_labels = []\n",
    "        all_preds = []\n",
    "\n",
    "        # Progress bar\n",
    "        progress_bar = tqdm(val_loader, desc=f\"Epoch {epoch+1}/{epochs}\")\n",
    "\n",
    "        # Disable gradients for evaluation\n",
    "        with torch.no_grad():\n",
    "            for inputs, labels in progress_bar:\n",
    "                inputs, labels = inputs.to(device), labels.to(device)\n",
    "\n",
    "                # Forward pass\n",
    "                outputs = model(inputs)\n",
    "\n",
    "                # Compute loss\n",
    "                loss = criterion(outputs, labels)\n",
    "                val_loss += loss.item() * inputs.size(0)\n",
    "\n",
    "                # Apply sigmoid\n",
    "                preds = torch.sigmoid(outputs).cpu()\n",
    "\n",
    "                # Store predictions and true labels\n",
    "                all_preds.append(preds)\n",
    "                all_labels.append(labels.cpu())\n",
    "                \n",
    "                progress_bar.set_postfix({\"Loss\": loss.item()})\n",
    "\n",
    "        # Calculate average validation loss\n",
    "        val_loss /= len(val_loader.dataset)\n",
    "        val_losses.append(val_loss)\n",
    "\n",
    "        # Concatenate all batches\n",
    "        preds = torch.cat(all_preds)\n",
    "        labels = torch.cat(all_labels)\n",
    "    \n",
    "        roc_auc_per_label = []\n",
    "\n",
    "        # Compute metrics for each label\n",
    "        for i, label in enumerate(disease_labels):\n",
    "\n",
    "            # Calculate ROC AUC\n",
    "            roc_auc = roc_auc_score(labels[:, i].numpy(), preds[:, i].numpy())\n",
    "            roc_auc_per_label.append(roc_auc)\n",
    "\n",
    "        # Calculate and add overall metrics\n",
    "        mean_auc = np.mean(roc_auc_per_label)\n",
    "        val_aucs.append(mean_auc)\n",
    "\n",
    "        # Update the scheduler once per epoch.\n",
    "        scheduler.step()\n",
    "        \n",
    "        print(f\"Epoch {epoch+1}/{epochs} | Training Loss: {train_loss:.4f} | \"\n",
    "              f\"Validation Loss: {val_loss:.4f} | Mean Validation AUC: {mean_auc:.4f}\")\n",
    "\n",
    "    return train_losses, val_losses, val_aucs\n",
    "\n",
    "# Train the model for the desired number of epochs\n",
    "train_losses, val_losses, val_aucs = train_model(model, train_loader, val_loader, criterion, optimizer_head, epochs=EPOCHS)"
   ]
  },
  {
   "cell_type": "markdown",
   "metadata": {},
   "source": [
    "**Step 2: Fine Tune Entire Network**"
   ]
  },
  {
   "cell_type": "code",
   "execution_count": 17,
   "metadata": {},
   "outputs": [],
   "source": [
    "# Unfreeze all layers for fine tuning\n",
    "for param in model.parameters():\n",
    "    param.requires_grad = True"
   ]
  },
  {
   "cell_type": "code",
   "execution_count": 18,
   "metadata": {},
   "outputs": [],
   "source": [
    "# Use a lower learning rate for the whole network\n",
    "optimizer_full = optim.Adam(model.parameters(), lr=0.0001)\n",
    "scheduler = optim.lr_scheduler.StepLR(optimizer_full, step_size=2, gamma=0.1)"
   ]
  },
  {
   "cell_type": "code",
   "execution_count": 19,
   "metadata": {},
   "outputs": [
    {
     "name": "stderr",
     "output_type": "stream",
     "text": [
      "Epoch 1/6:   0%|          | 0/1037 [00:00<?, ?it/s]"
     ]
    },
    {
     "name": "stderr",
     "output_type": "stream",
     "text": [
      "Epoch 1/6: 100%|██████████| 1037/1037 [13:34<00:00,  1.27it/s, Loss=0.258]\n",
      "Epoch 1/6: 100%|██████████| 260/260 [00:56<00:00,  4.63it/s, Loss=0.328]\n"
     ]
    },
    {
     "name": "stdout",
     "output_type": "stream",
     "text": [
      "Epoch 1/6 | Training Loss: 0.3071 | Validation Loss: 0.2967 | Mean Validation AUC: 0.6360\n"
     ]
    },
    {
     "name": "stderr",
     "output_type": "stream",
     "text": [
      "Epoch 2/6: 100%|██████████| 1037/1037 [12:48<00:00,  1.35it/s, Loss=0.27] \n",
      "Epoch 2/6: 100%|██████████| 260/260 [00:52<00:00,  4.97it/s, Loss=0.346]\n"
     ]
    },
    {
     "name": "stdout",
     "output_type": "stream",
     "text": [
      "Epoch 2/6 | Training Loss: 0.2941 | Validation Loss: 0.2959 | Mean Validation AUC: 0.6510\n"
     ]
    },
    {
     "name": "stderr",
     "output_type": "stream",
     "text": [
      "Epoch 3/6: 100%|██████████| 1037/1037 [13:29<00:00,  1.28it/s, Loss=0.296]\n",
      "Epoch 3/6: 100%|██████████| 260/260 [00:55<00:00,  4.66it/s, Loss=0.343]\n"
     ]
    },
    {
     "name": "stdout",
     "output_type": "stream",
     "text": [
      "Epoch 3/6 | Training Loss: 0.2885 | Validation Loss: 0.2888 | Mean Validation AUC: 0.6675\n"
     ]
    },
    {
     "name": "stderr",
     "output_type": "stream",
     "text": [
      "Epoch 4/6: 100%|██████████| 1037/1037 [13:30<00:00,  1.28it/s, Loss=0.301]\n",
      "Epoch 4/6: 100%|██████████| 260/260 [00:56<00:00,  4.61it/s, Loss=0.343]\n"
     ]
    },
    {
     "name": "stdout",
     "output_type": "stream",
     "text": [
      "Epoch 4/6 | Training Loss: 0.2869 | Validation Loss: 0.2905 | Mean Validation AUC: 0.6734\n"
     ]
    },
    {
     "name": "stderr",
     "output_type": "stream",
     "text": [
      "Epoch 5/6: 100%|██████████| 1037/1037 [13:32<00:00,  1.28it/s, Loss=0.289]\n",
      "Epoch 5/6: 100%|██████████| 260/260 [00:56<00:00,  4.63it/s, Loss=0.341]\n"
     ]
    },
    {
     "name": "stdout",
     "output_type": "stream",
     "text": [
      "Epoch 5/6 | Training Loss: 0.2855 | Validation Loss: 0.2870 | Mean Validation AUC: 0.6749\n"
     ]
    },
    {
     "name": "stderr",
     "output_type": "stream",
     "text": [
      "Epoch 6/6: 100%|██████████| 1037/1037 [13:29<00:00,  1.28it/s, Loss=0.251]\n",
      "Epoch 6/6: 100%|██████████| 260/260 [00:55<00:00,  4.65it/s, Loss=0.341]"
     ]
    },
    {
     "name": "stdout",
     "output_type": "stream",
     "text": [
      "Epoch 6/6 | Training Loss: 0.2851 | Validation Loss: 0.2868 | Mean Validation AUC: 0.6756\n"
     ]
    },
    {
     "name": "stderr",
     "output_type": "stream",
     "text": [
      "\n"
     ]
    }
   ],
   "source": [
    "def train_model(model, train_loader, val_loader, criterion, optimizer, epochs=10):\n",
    "\n",
    "    \"\"\"\n",
    "    Trains the model and evaluates it on the validation set after each epoch.\n",
    "    \"\"\"\n",
    "    # List to store loss and AUC\n",
    "    train_losses = []\n",
    "    val_losses = []\n",
    "    val_aucs = []\n",
    "\n",
    "    for epoch in range(epochs):\n",
    "\n",
    "        # Training\n",
    "        model.train()\n",
    "        train_loss = 0.0\n",
    "\n",
    "        # Progress bar\n",
    "        progress_bar = tqdm(train_loader, desc=f\"Epoch {epoch+1}/{epochs}\")\n",
    "\n",
    "        for inputs, labels in progress_bar:\n",
    "            inputs, labels = inputs.to(device), labels.to(device)\n",
    "\n",
    "            # Clear gradients\n",
    "            optimizer.zero_grad()\n",
    "\n",
    "            # Forward pass\n",
    "            outputs = model(inputs)\n",
    "\n",
    "            # Compute loss\n",
    "            loss = criterion(outputs, labels)\n",
    "\n",
    "            # Backward pass\n",
    "            loss.backward()\n",
    "\n",
    "            # Update weights\n",
    "            optimizer.step()\n",
    "\n",
    "            train_loss += loss.item() * inputs.size(0)\n",
    "            progress_bar.set_postfix({\"Loss\": loss.item()})\n",
    "\n",
    "        # Calculate average training loss\n",
    "        train_loss /= len(train_loader.dataset)\n",
    "        train_losses.append(train_loss)\n",
    "\n",
    "        # Validation\n",
    "        model.eval()\n",
    "        val_loss = 0.0\n",
    "        all_labels = []\n",
    "        all_preds = []\n",
    "\n",
    "        # Progress bar\n",
    "        progress_bar = tqdm(val_loader, desc=f\"Epoch {epoch+1}/{epochs}\")\n",
    "\n",
    "        # Disable gradients for evaluation\n",
    "        with torch.no_grad():\n",
    "            for inputs, labels in progress_bar:\n",
    "                inputs, labels = inputs.to(device), labels.to(device)\n",
    "\n",
    "                # Forward pass\n",
    "                outputs = model(inputs)\n",
    "\n",
    "                # Compute loss\n",
    "                loss = criterion(outputs, labels)\n",
    "                val_loss += loss.item() * inputs.size(0)\n",
    "\n",
    "                # Apply sigmoid\n",
    "                preds = torch.sigmoid(outputs).cpu()\n",
    "\n",
    "                # Store predictions and true labels\n",
    "                all_preds.append(preds)\n",
    "                all_labels.append(labels.cpu())\n",
    "                \n",
    "                progress_bar.set_postfix({\"Loss\": loss.item()})\n",
    "\n",
    "        # Calculate average validation loss\n",
    "        val_loss /= len(val_loader.dataset)\n",
    "        val_losses.append(val_loss)\n",
    "\n",
    "        # Concatenate all batches\n",
    "        preds = torch.cat(all_preds)\n",
    "        labels = torch.cat(all_labels)\n",
    "    \n",
    "        roc_auc_per_label = []\n",
    "\n",
    "        # Compute metrics for each label\n",
    "        for i, label in enumerate(disease_labels):\n",
    "\n",
    "            # Calculate ROC AUC\n",
    "            roc_auc = roc_auc_score(labels[:, i].numpy(), preds[:, i].numpy())\n",
    "            roc_auc_per_label.append(roc_auc)\n",
    "\n",
    "        # Calculate and add overall metrics\n",
    "        mean_auc = np.mean(roc_auc_per_label)\n",
    "        val_aucs.append(mean_auc)\n",
    "        \n",
    "        print(f\"Epoch {epoch+1}/{epochs} | Training Loss: {train_loss:.4f} | \"\n",
    "              f\"Validation Loss: {val_loss:.4f} | Mean Validation AUC: {mean_auc:.4f}\")\n",
    "\n",
    "        # Update the scheduler once per epoch.\n",
    "        scheduler.step()\n",
    "\n",
    "    return train_losses, val_losses, val_aucs\n",
    "\n",
    "# Train the model for the desired number of epochs\n",
    "train_losses, val_losses, val_aucs = train_model(model, train_loader, val_loader, criterion, optimizer_full, epochs=EPOCHS)"
   ]
  },
  {
   "cell_type": "markdown",
   "metadata": {},
   "source": [
    "# **Step 4: Data Processing (Stage 2)**"
   ]
  },
  {
   "cell_type": "markdown",
   "metadata": {},
   "source": [
    "**Split Dataset**"
   ]
  },
  {
   "cell_type": "code",
   "execution_count": 20,
   "metadata": {},
   "outputs": [
    {
     "name": "stdout",
     "output_type": "stream",
     "text": [
      "Train size: 89826\n",
      "Test size: 22294\n"
     ]
    }
   ],
   "source": [
    "# Include all labels including No finding i stage 2\n",
    "labels_df = labels_df_stage_2\n",
    "\n",
    "# Split patients into training/validation and test sets\n",
    "unique_patients = labels_df['Patient ID'].unique()\n",
    "train_val_patients, test_patients = train_test_split(\n",
    "    unique_patients, test_size=0.2, random_state=SEED\n",
    ")\n",
    "\n",
    "# Create training/validation and test dataframes\n",
    "train_val_df = labels_df[labels_df['Patient ID'].isin(train_val_patients)].reset_index(drop=True)\n",
    "test_df = labels_df[labels_df['Patient ID'].isin(test_patients)].reset_index(drop=True)\n",
    "\n",
    "# Verify Split Sizes\n",
    "print(f\"Train size: {train_val_df.shape[0]}\")\n",
    "print(f\"Test size: {test_df.shape[0]}\")"
   ]
  },
  {
   "cell_type": "markdown",
   "metadata": {},
   "source": [
    "**Create Datasets**"
   ]
  },
  {
   "cell_type": "code",
   "execution_count": 21,
   "metadata": {},
   "outputs": [],
   "source": [
    "train_dataset = ChestXrayDataset(train_val_df, transform=train_transforms)\n",
    "test_dataset = ChestXrayDataset(test_df, transform=test_transforms)"
   ]
  },
  {
   "cell_type": "markdown",
   "metadata": {},
   "source": [
    "**Split into Training and Validation**"
   ]
  },
  {
   "cell_type": "code",
   "execution_count": 22,
   "metadata": {},
   "outputs": [],
   "source": [
    "train_size = int(TEST_SIZE * len(train_dataset))\n",
    "val_size = len(train_dataset) - train_size\n",
    "train_dataset, val_dataset = random_split(train_dataset, [train_size, val_size])"
   ]
  },
  {
   "cell_type": "markdown",
   "metadata": {},
   "source": [
    "**Create DataLoaders**"
   ]
  },
  {
   "cell_type": "code",
   "execution_count": 23,
   "metadata": {},
   "outputs": [],
   "source": [
    "train_loader = DataLoader(train_dataset, batch_size=BATCH_SIZE, shuffle=True, num_workers=8)\n",
    "val_loader = DataLoader(val_dataset, batch_size=BATCH_SIZE, shuffle=False, num_workers=8)\n",
    "test_loader = DataLoader(test_dataset, batch_size=BATCH_SIZE, shuffle=False, num_workers=8)"
   ]
  },
  {
   "cell_type": "markdown",
   "metadata": {},
   "source": [
    "# **Step 5: Build the Model (Stage 2)**"
   ]
  },
  {
   "cell_type": "markdown",
   "metadata": {},
   "source": [
    "**Initialize the Multi-Label Classifier Model**"
   ]
  },
  {
   "cell_type": "code",
   "execution_count": 24,
   "metadata": {},
   "outputs": [
    {
     "data": {
      "text/plain": [
       "MultiLabelClassifier(\n",
       "  (base_model): MaxxVit(\n",
       "    (stem): Stem(\n",
       "      (conv1): Conv2d(3, 32, kernel_size=(3, 3), stride=(2, 2), padding=(1, 1), bias=False)\n",
       "      (norm1): BatchNormAct2d(\n",
       "        32, eps=1e-05, momentum=0.1, affine=True, track_running_stats=True\n",
       "        (drop): Identity()\n",
       "        (act): SiLU(inplace=True)\n",
       "      )\n",
       "      (conv2): Conv2d(32, 64, kernel_size=(3, 3), stride=(1, 1), padding=(1, 1), bias=False)\n",
       "    )\n",
       "    (stages): Sequential(\n",
       "      (0): MaxxVitStage(\n",
       "        (blocks): Sequential(\n",
       "          (0): MbConvBlock(\n",
       "            (shortcut): Downsample2d(\n",
       "              (pool): AvgPool2d(kernel_size=2, stride=2, padding=0)\n",
       "              (expand): Conv2d(64, 96, kernel_size=(1, 1), stride=(1, 1), bias=False)\n",
       "            )\n",
       "            (pre_norm): BatchNormAct2d(\n",
       "              64, eps=1e-05, momentum=0.1, affine=True, track_running_stats=True\n",
       "              (drop): Identity()\n",
       "              (act): SiLU(inplace=True)\n",
       "            )\n",
       "            (down): Downsample2d(\n",
       "              (pool): AvgPool2d(kernel_size=2, stride=2, padding=0)\n",
       "              (expand): Identity()\n",
       "            )\n",
       "            (conv1_1x1): Conv2d(64, 256, kernel_size=(1, 1), stride=(1, 1), bias=False)\n",
       "            (norm1): BatchNormAct2d(\n",
       "              256, eps=1e-05, momentum=0.1, affine=True, track_running_stats=True\n",
       "              (drop): Identity()\n",
       "              (act): SiLU(inplace=True)\n",
       "            )\n",
       "            (conv2_kxk): Conv2d(256, 256, kernel_size=(3, 3), stride=(1, 1), padding=(1, 1), groups=256, bias=False)\n",
       "            (se_early): SEModule(\n",
       "              (fc1): Conv2d(256, 64, kernel_size=(1, 1), stride=(1, 1))\n",
       "              (bn): Identity()\n",
       "              (act): ReLU(inplace=True)\n",
       "              (fc2): Conv2d(64, 256, kernel_size=(1, 1), stride=(1, 1))\n",
       "              (gate): Sigmoid()\n",
       "            )\n",
       "            (norm2): BatchNormAct2d(\n",
       "              256, eps=1e-05, momentum=0.1, affine=True, track_running_stats=True\n",
       "              (drop): Identity()\n",
       "              (act): SiLU(inplace=True)\n",
       "            )\n",
       "            (conv3_1x1): Conv2d(256, 96, kernel_size=(1, 1), stride=(1, 1), bias=False)\n",
       "            (drop_path): Identity()\n",
       "          )\n",
       "          (1): MbConvBlock(\n",
       "            (shortcut): Identity()\n",
       "            (pre_norm): BatchNormAct2d(\n",
       "              96, eps=1e-05, momentum=0.1, affine=True, track_running_stats=True\n",
       "              (drop): Identity()\n",
       "              (act): SiLU(inplace=True)\n",
       "            )\n",
       "            (down): Identity()\n",
       "            (conv1_1x1): Conv2d(96, 384, kernel_size=(1, 1), stride=(1, 1), bias=False)\n",
       "            (norm1): BatchNormAct2d(\n",
       "              384, eps=1e-05, momentum=0.1, affine=True, track_running_stats=True\n",
       "              (drop): Identity()\n",
       "              (act): SiLU(inplace=True)\n",
       "            )\n",
       "            (conv2_kxk): Conv2d(384, 384, kernel_size=(3, 3), stride=(1, 1), padding=(1, 1), groups=384, bias=False)\n",
       "            (se_early): SEModule(\n",
       "              (fc1): Conv2d(384, 96, kernel_size=(1, 1), stride=(1, 1))\n",
       "              (bn): Identity()\n",
       "              (act): ReLU(inplace=True)\n",
       "              (fc2): Conv2d(96, 384, kernel_size=(1, 1), stride=(1, 1))\n",
       "              (gate): Sigmoid()\n",
       "            )\n",
       "            (norm2): BatchNormAct2d(\n",
       "              384, eps=1e-05, momentum=0.1, affine=True, track_running_stats=True\n",
       "              (drop): Identity()\n",
       "              (act): SiLU(inplace=True)\n",
       "            )\n",
       "            (conv3_1x1): Conv2d(384, 96, kernel_size=(1, 1), stride=(1, 1), bias=False)\n",
       "            (drop_path): Identity()\n",
       "          )\n",
       "        )\n",
       "      )\n",
       "      (1): MaxxVitStage(\n",
       "        (blocks): Sequential(\n",
       "          (0): MbConvBlock(\n",
       "            (shortcut): Downsample2d(\n",
       "              (pool): AvgPool2d(kernel_size=2, stride=2, padding=0)\n",
       "              (expand): Conv2d(96, 192, kernel_size=(1, 1), stride=(1, 1), bias=False)\n",
       "            )\n",
       "            (pre_norm): BatchNormAct2d(\n",
       "              96, eps=1e-05, momentum=0.1, affine=True, track_running_stats=True\n",
       "              (drop): Identity()\n",
       "              (act): SiLU(inplace=True)\n",
       "            )\n",
       "            (down): Downsample2d(\n",
       "              (pool): AvgPool2d(kernel_size=2, stride=2, padding=0)\n",
       "              (expand): Identity()\n",
       "            )\n",
       "            (conv1_1x1): Conv2d(96, 384, kernel_size=(1, 1), stride=(1, 1), bias=False)\n",
       "            (norm1): BatchNormAct2d(\n",
       "              384, eps=1e-05, momentum=0.1, affine=True, track_running_stats=True\n",
       "              (drop): Identity()\n",
       "              (act): SiLU(inplace=True)\n",
       "            )\n",
       "            (conv2_kxk): Conv2d(384, 384, kernel_size=(3, 3), stride=(1, 1), padding=(1, 1), groups=384, bias=False)\n",
       "            (se_early): SEModule(\n",
       "              (fc1): Conv2d(384, 96, kernel_size=(1, 1), stride=(1, 1))\n",
       "              (bn): Identity()\n",
       "              (act): ReLU(inplace=True)\n",
       "              (fc2): Conv2d(96, 384, kernel_size=(1, 1), stride=(1, 1))\n",
       "              (gate): Sigmoid()\n",
       "            )\n",
       "            (norm2): BatchNormAct2d(\n",
       "              384, eps=1e-05, momentum=0.1, affine=True, track_running_stats=True\n",
       "              (drop): Identity()\n",
       "              (act): SiLU(inplace=True)\n",
       "            )\n",
       "            (conv3_1x1): Conv2d(384, 192, kernel_size=(1, 1), stride=(1, 1), bias=False)\n",
       "            (drop_path): Identity()\n",
       "          )\n",
       "          (1): MbConvBlock(\n",
       "            (shortcut): Identity()\n",
       "            (pre_norm): BatchNormAct2d(\n",
       "              192, eps=1e-05, momentum=0.1, affine=True, track_running_stats=True\n",
       "              (drop): Identity()\n",
       "              (act): SiLU(inplace=True)\n",
       "            )\n",
       "            (down): Identity()\n",
       "            (conv1_1x1): Conv2d(192, 768, kernel_size=(1, 1), stride=(1, 1), bias=False)\n",
       "            (norm1): BatchNormAct2d(\n",
       "              768, eps=1e-05, momentum=0.1, affine=True, track_running_stats=True\n",
       "              (drop): Identity()\n",
       "              (act): SiLU(inplace=True)\n",
       "            )\n",
       "            (conv2_kxk): Conv2d(768, 768, kernel_size=(3, 3), stride=(1, 1), padding=(1, 1), groups=768, bias=False)\n",
       "            (se_early): SEModule(\n",
       "              (fc1): Conv2d(768, 192, kernel_size=(1, 1), stride=(1, 1))\n",
       "              (bn): Identity()\n",
       "              (act): ReLU(inplace=True)\n",
       "              (fc2): Conv2d(192, 768, kernel_size=(1, 1), stride=(1, 1))\n",
       "              (gate): Sigmoid()\n",
       "            )\n",
       "            (norm2): BatchNormAct2d(\n",
       "              768, eps=1e-05, momentum=0.1, affine=True, track_running_stats=True\n",
       "              (drop): Identity()\n",
       "              (act): SiLU(inplace=True)\n",
       "            )\n",
       "            (conv3_1x1): Conv2d(768, 192, kernel_size=(1, 1), stride=(1, 1), bias=False)\n",
       "            (drop_path): Identity()\n",
       "          )\n",
       "          (2): MbConvBlock(\n",
       "            (shortcut): Identity()\n",
       "            (pre_norm): BatchNormAct2d(\n",
       "              192, eps=1e-05, momentum=0.1, affine=True, track_running_stats=True\n",
       "              (drop): Identity()\n",
       "              (act): SiLU(inplace=True)\n",
       "            )\n",
       "            (down): Identity()\n",
       "            (conv1_1x1): Conv2d(192, 768, kernel_size=(1, 1), stride=(1, 1), bias=False)\n",
       "            (norm1): BatchNormAct2d(\n",
       "              768, eps=1e-05, momentum=0.1, affine=True, track_running_stats=True\n",
       "              (drop): Identity()\n",
       "              (act): SiLU(inplace=True)\n",
       "            )\n",
       "            (conv2_kxk): Conv2d(768, 768, kernel_size=(3, 3), stride=(1, 1), padding=(1, 1), groups=768, bias=False)\n",
       "            (se_early): SEModule(\n",
       "              (fc1): Conv2d(768, 192, kernel_size=(1, 1), stride=(1, 1))\n",
       "              (bn): Identity()\n",
       "              (act): ReLU(inplace=True)\n",
       "              (fc2): Conv2d(192, 768, kernel_size=(1, 1), stride=(1, 1))\n",
       "              (gate): Sigmoid()\n",
       "            )\n",
       "            (norm2): BatchNormAct2d(\n",
       "              768, eps=1e-05, momentum=0.1, affine=True, track_running_stats=True\n",
       "              (drop): Identity()\n",
       "              (act): SiLU(inplace=True)\n",
       "            )\n",
       "            (conv3_1x1): Conv2d(768, 192, kernel_size=(1, 1), stride=(1, 1), bias=False)\n",
       "            (drop_path): Identity()\n",
       "          )\n",
       "        )\n",
       "      )\n",
       "      (2): MaxxVitStage(\n",
       "        (blocks): Sequential(\n",
       "          (0): TransformerBlock2d(\n",
       "            (shortcut): Downsample2d(\n",
       "              (pool): AvgPool2d(kernel_size=2, stride=2, padding=0)\n",
       "              (expand): Conv2d(192, 384, kernel_size=(1, 1), stride=(1, 1), bias=False)\n",
       "            )\n",
       "            (norm1): Sequential(\n",
       "              (norm): LayerNorm2d((192,), eps=1e-06, elementwise_affine=True)\n",
       "              (down): Downsample2d(\n",
       "                (pool): AvgPool2d(kernel_size=2, stride=2, padding=0)\n",
       "                (expand): Identity()\n",
       "              )\n",
       "            )\n",
       "            (attn): Attention2d(\n",
       "              (qkv): Conv2d(192, 576, kernel_size=(1, 1), stride=(1, 1))\n",
       "              (rel_pos): RelPosBias()\n",
       "              (attn_drop): Dropout(p=0.0, inplace=False)\n",
       "              (proj): Conv2d(192, 384, kernel_size=(1, 1), stride=(1, 1))\n",
       "              (proj_drop): Dropout(p=0.0, inplace=False)\n",
       "            )\n",
       "            (ls1): Identity()\n",
       "            (drop_path1): Identity()\n",
       "            (norm2): LayerNorm2d((384,), eps=1e-06, elementwise_affine=True)\n",
       "            (mlp): ConvMlp(\n",
       "              (fc1): Conv2d(384, 1536, kernel_size=(1, 1), stride=(1, 1))\n",
       "              (norm): Identity()\n",
       "              (act): GELU()\n",
       "              (drop): Dropout(p=0.0, inplace=False)\n",
       "              (fc2): Conv2d(1536, 384, kernel_size=(1, 1), stride=(1, 1))\n",
       "            )\n",
       "            (ls2): Identity()\n",
       "            (drop_path2): Identity()\n",
       "          )\n",
       "          (1): TransformerBlock2d(\n",
       "            (shortcut): Identity()\n",
       "            (norm1): LayerNorm2d((384,), eps=1e-06, elementwise_affine=True)\n",
       "            (attn): Attention2d(\n",
       "              (qkv): Conv2d(384, 1152, kernel_size=(1, 1), stride=(1, 1))\n",
       "              (rel_pos): RelPosBias()\n",
       "              (attn_drop): Dropout(p=0.0, inplace=False)\n",
       "              (proj): Conv2d(384, 384, kernel_size=(1, 1), stride=(1, 1))\n",
       "              (proj_drop): Dropout(p=0.0, inplace=False)\n",
       "            )\n",
       "            (ls1): Identity()\n",
       "            (drop_path1): Identity()\n",
       "            (norm2): LayerNorm2d((384,), eps=1e-06, elementwise_affine=True)\n",
       "            (mlp): ConvMlp(\n",
       "              (fc1): Conv2d(384, 1536, kernel_size=(1, 1), stride=(1, 1))\n",
       "              (norm): Identity()\n",
       "              (act): GELU()\n",
       "              (drop): Dropout(p=0.0, inplace=False)\n",
       "              (fc2): Conv2d(1536, 384, kernel_size=(1, 1), stride=(1, 1))\n",
       "            )\n",
       "            (ls2): Identity()\n",
       "            (drop_path2): Identity()\n",
       "          )\n",
       "          (2): TransformerBlock2d(\n",
       "            (shortcut): Identity()\n",
       "            (norm1): LayerNorm2d((384,), eps=1e-06, elementwise_affine=True)\n",
       "            (attn): Attention2d(\n",
       "              (qkv): Conv2d(384, 1152, kernel_size=(1, 1), stride=(1, 1))\n",
       "              (rel_pos): RelPosBias()\n",
       "              (attn_drop): Dropout(p=0.0, inplace=False)\n",
       "              (proj): Conv2d(384, 384, kernel_size=(1, 1), stride=(1, 1))\n",
       "              (proj_drop): Dropout(p=0.0, inplace=False)\n",
       "            )\n",
       "            (ls1): Identity()\n",
       "            (drop_path1): Identity()\n",
       "            (norm2): LayerNorm2d((384,), eps=1e-06, elementwise_affine=True)\n",
       "            (mlp): ConvMlp(\n",
       "              (fc1): Conv2d(384, 1536, kernel_size=(1, 1), stride=(1, 1))\n",
       "              (norm): Identity()\n",
       "              (act): GELU()\n",
       "              (drop): Dropout(p=0.0, inplace=False)\n",
       "              (fc2): Conv2d(1536, 384, kernel_size=(1, 1), stride=(1, 1))\n",
       "            )\n",
       "            (ls2): Identity()\n",
       "            (drop_path2): Identity()\n",
       "          )\n",
       "          (3): TransformerBlock2d(\n",
       "            (shortcut): Identity()\n",
       "            (norm1): LayerNorm2d((384,), eps=1e-06, elementwise_affine=True)\n",
       "            (attn): Attention2d(\n",
       "              (qkv): Conv2d(384, 1152, kernel_size=(1, 1), stride=(1, 1))\n",
       "              (rel_pos): RelPosBias()\n",
       "              (attn_drop): Dropout(p=0.0, inplace=False)\n",
       "              (proj): Conv2d(384, 384, kernel_size=(1, 1), stride=(1, 1))\n",
       "              (proj_drop): Dropout(p=0.0, inplace=False)\n",
       "            )\n",
       "            (ls1): Identity()\n",
       "            (drop_path1): Identity()\n",
       "            (norm2): LayerNorm2d((384,), eps=1e-06, elementwise_affine=True)\n",
       "            (mlp): ConvMlp(\n",
       "              (fc1): Conv2d(384, 1536, kernel_size=(1, 1), stride=(1, 1))\n",
       "              (norm): Identity()\n",
       "              (act): GELU()\n",
       "              (drop): Dropout(p=0.0, inplace=False)\n",
       "              (fc2): Conv2d(1536, 384, kernel_size=(1, 1), stride=(1, 1))\n",
       "            )\n",
       "            (ls2): Identity()\n",
       "            (drop_path2): Identity()\n",
       "          )\n",
       "          (4): TransformerBlock2d(\n",
       "            (shortcut): Identity()\n",
       "            (norm1): LayerNorm2d((384,), eps=1e-06, elementwise_affine=True)\n",
       "            (attn): Attention2d(\n",
       "              (qkv): Conv2d(384, 1152, kernel_size=(1, 1), stride=(1, 1))\n",
       "              (rel_pos): RelPosBias()\n",
       "              (attn_drop): Dropout(p=0.0, inplace=False)\n",
       "              (proj): Conv2d(384, 384, kernel_size=(1, 1), stride=(1, 1))\n",
       "              (proj_drop): Dropout(p=0.0, inplace=False)\n",
       "            )\n",
       "            (ls1): Identity()\n",
       "            (drop_path1): Identity()\n",
       "            (norm2): LayerNorm2d((384,), eps=1e-06, elementwise_affine=True)\n",
       "            (mlp): ConvMlp(\n",
       "              (fc1): Conv2d(384, 1536, kernel_size=(1, 1), stride=(1, 1))\n",
       "              (norm): Identity()\n",
       "              (act): GELU()\n",
       "              (drop): Dropout(p=0.0, inplace=False)\n",
       "              (fc2): Conv2d(1536, 384, kernel_size=(1, 1), stride=(1, 1))\n",
       "            )\n",
       "            (ls2): Identity()\n",
       "            (drop_path2): Identity()\n",
       "          )\n",
       "          (5): TransformerBlock2d(\n",
       "            (shortcut): Identity()\n",
       "            (norm1): LayerNorm2d((384,), eps=1e-06, elementwise_affine=True)\n",
       "            (attn): Attention2d(\n",
       "              (qkv): Conv2d(384, 1152, kernel_size=(1, 1), stride=(1, 1))\n",
       "              (rel_pos): RelPosBias()\n",
       "              (attn_drop): Dropout(p=0.0, inplace=False)\n",
       "              (proj): Conv2d(384, 384, kernel_size=(1, 1), stride=(1, 1))\n",
       "              (proj_drop): Dropout(p=0.0, inplace=False)\n",
       "            )\n",
       "            (ls1): Identity()\n",
       "            (drop_path1): Identity()\n",
       "            (norm2): LayerNorm2d((384,), eps=1e-06, elementwise_affine=True)\n",
       "            (mlp): ConvMlp(\n",
       "              (fc1): Conv2d(384, 1536, kernel_size=(1, 1), stride=(1, 1))\n",
       "              (norm): Identity()\n",
       "              (act): GELU()\n",
       "              (drop): Dropout(p=0.0, inplace=False)\n",
       "              (fc2): Conv2d(1536, 384, kernel_size=(1, 1), stride=(1, 1))\n",
       "            )\n",
       "            (ls2): Identity()\n",
       "            (drop_path2): Identity()\n",
       "          )\n",
       "          (6): TransformerBlock2d(\n",
       "            (shortcut): Identity()\n",
       "            (norm1): LayerNorm2d((384,), eps=1e-06, elementwise_affine=True)\n",
       "            (attn): Attention2d(\n",
       "              (qkv): Conv2d(384, 1152, kernel_size=(1, 1), stride=(1, 1))\n",
       "              (rel_pos): RelPosBias()\n",
       "              (attn_drop): Dropout(p=0.0, inplace=False)\n",
       "              (proj): Conv2d(384, 384, kernel_size=(1, 1), stride=(1, 1))\n",
       "              (proj_drop): Dropout(p=0.0, inplace=False)\n",
       "            )\n",
       "            (ls1): Identity()\n",
       "            (drop_path1): Identity()\n",
       "            (norm2): LayerNorm2d((384,), eps=1e-06, elementwise_affine=True)\n",
       "            (mlp): ConvMlp(\n",
       "              (fc1): Conv2d(384, 1536, kernel_size=(1, 1), stride=(1, 1))\n",
       "              (norm): Identity()\n",
       "              (act): GELU()\n",
       "              (drop): Dropout(p=0.0, inplace=False)\n",
       "              (fc2): Conv2d(1536, 384, kernel_size=(1, 1), stride=(1, 1))\n",
       "            )\n",
       "            (ls2): Identity()\n",
       "            (drop_path2): Identity()\n",
       "          )\n",
       "        )\n",
       "      )\n",
       "      (3): MaxxVitStage(\n",
       "        (blocks): Sequential(\n",
       "          (0): TransformerBlock2d(\n",
       "            (shortcut): Downsample2d(\n",
       "              (pool): AvgPool2d(kernel_size=2, stride=2, padding=0)\n",
       "              (expand): Conv2d(384, 768, kernel_size=(1, 1), stride=(1, 1), bias=False)\n",
       "            )\n",
       "            (norm1): Sequential(\n",
       "              (norm): LayerNorm2d((384,), eps=1e-06, elementwise_affine=True)\n",
       "              (down): Downsample2d(\n",
       "                (pool): AvgPool2d(kernel_size=2, stride=2, padding=0)\n",
       "                (expand): Identity()\n",
       "              )\n",
       "            )\n",
       "            (attn): Attention2d(\n",
       "              (qkv): Conv2d(384, 1152, kernel_size=(1, 1), stride=(1, 1))\n",
       "              (rel_pos): RelPosBias()\n",
       "              (attn_drop): Dropout(p=0.0, inplace=False)\n",
       "              (proj): Conv2d(384, 768, kernel_size=(1, 1), stride=(1, 1))\n",
       "              (proj_drop): Dropout(p=0.0, inplace=False)\n",
       "            )\n",
       "            (ls1): Identity()\n",
       "            (drop_path1): Identity()\n",
       "            (norm2): LayerNorm2d((768,), eps=1e-06, elementwise_affine=True)\n",
       "            (mlp): ConvMlp(\n",
       "              (fc1): Conv2d(768, 3072, kernel_size=(1, 1), stride=(1, 1))\n",
       "              (norm): Identity()\n",
       "              (act): GELU()\n",
       "              (drop): Dropout(p=0.0, inplace=False)\n",
       "              (fc2): Conv2d(3072, 768, kernel_size=(1, 1), stride=(1, 1))\n",
       "            )\n",
       "            (ls2): Identity()\n",
       "            (drop_path2): Identity()\n",
       "          )\n",
       "          (1): TransformerBlock2d(\n",
       "            (shortcut): Identity()\n",
       "            (norm1): LayerNorm2d((768,), eps=1e-06, elementwise_affine=True)\n",
       "            (attn): Attention2d(\n",
       "              (qkv): Conv2d(768, 2304, kernel_size=(1, 1), stride=(1, 1))\n",
       "              (rel_pos): RelPosBias()\n",
       "              (attn_drop): Dropout(p=0.0, inplace=False)\n",
       "              (proj): Conv2d(768, 768, kernel_size=(1, 1), stride=(1, 1))\n",
       "              (proj_drop): Dropout(p=0.0, inplace=False)\n",
       "            )\n",
       "            (ls1): Identity()\n",
       "            (drop_path1): Identity()\n",
       "            (norm2): LayerNorm2d((768,), eps=1e-06, elementwise_affine=True)\n",
       "            (mlp): ConvMlp(\n",
       "              (fc1): Conv2d(768, 3072, kernel_size=(1, 1), stride=(1, 1))\n",
       "              (norm): Identity()\n",
       "              (act): GELU()\n",
       "              (drop): Dropout(p=0.0, inplace=False)\n",
       "              (fc2): Conv2d(3072, 768, kernel_size=(1, 1), stride=(1, 1))\n",
       "            )\n",
       "            (ls2): Identity()\n",
       "            (drop_path2): Identity()\n",
       "          )\n",
       "        )\n",
       "      )\n",
       "    )\n",
       "    (norm): LayerNorm2d((768,), eps=1e-06, elementwise_affine=True)\n",
       "    (head): ClassifierHead(\n",
       "      (global_pool): SelectAdaptivePool2d(pool_type=avg, flatten=Flatten(start_dim=1, end_dim=-1))\n",
       "      (drop): Dropout(p=0.0, inplace=False)\n",
       "      (fc): Linear(in_features=768, out_features=14, bias=True)\n",
       "      (flatten): Identity()\n",
       "    )\n",
       "  )\n",
       ")"
      ]
     },
     "execution_count": 24,
     "metadata": {},
     "output_type": "execute_result"
    }
   ],
   "source": [
    "# Define the model\n",
    "class MultiLabelClassifier(nn.Module):\n",
    "    \"\"\"\n",
    "    Multi-Label Classification Model using Swin Transformer as the base model.\n",
    "    \"\"\"\n",
    "    def __init__(self, model, num_classes=len(disease_labels)):\n",
    "        super(MultiLabelClassifier, self).__init__()\n",
    "\n",
    "        # Load pre-trained Swin Transformer model\n",
    "        self.base_model = model.base_model\n",
    "\n",
    "        # Replace the classification head to match the number of disease labels\n",
    "        self.base_model.head.fc = nn.Linear(self.base_model.head.fc.in_features, num_classes)\n",
    "\n",
    "    def forward(self, x):\n",
    "        return self.base_model(x)\n",
    "\n",
    "# Initialize the Model\n",
    "model = MultiLabelClassifier(model)\n",
    "model.to(device)"
   ]
  },
  {
   "cell_type": "markdown",
   "metadata": {},
   "source": [
    "**Define Loss Function, Optimizer and Scheduler**"
   ]
  },
  {
   "cell_type": "code",
   "execution_count": 25,
   "metadata": {},
   "outputs": [],
   "source": [
    "criterion = nn.BCEWithLogitsLoss()\n",
    "\n",
    "# Separate parameters: exclude head parameters from the base group\n",
    "base_params = [p for n, p in model.base_model.named_parameters() if 'head' not in n]\n",
    "head_params = list(model.base_model.head.parameters())\n",
    "\n",
    "optimizer = optim.Adam([\n",
    "    {'params': base_params, 'lr': 2e-5},  # lower learning rate for base layers\n",
    "    {'params': head_params, 'lr': 8e-5}   # higher learning rate for head layers\n",
    "])\n",
    "\n",
    "scheduler = torch.optim.lr_scheduler.OneCycleLR(\n",
    "    optimizer,\n",
    "    max_lr=[2e-5, 8e-5],\n",
    "    total_steps=EPOCHS * len(train_loader),\n",
    "    anneal_strategy='linear'\n",
    ")"
   ]
  },
  {
   "cell_type": "markdown",
   "metadata": {},
   "source": [
    "# **Step 6: Train the Model (Stage 2)**"
   ]
  },
  {
   "cell_type": "code",
   "execution_count": 26,
   "metadata": {},
   "outputs": [
    {
     "name": "stderr",
     "output_type": "stream",
     "text": [
      "Epoch 1/6:  24%|██▎       | 529/2246 [06:54<22:22,  1.28it/s, Loss=0.237]"
     ]
    },
    {
     "name": "stderr",
     "output_type": "stream",
     "text": [
      "Epoch 1/6: 100%|██████████| 2246/2246 [29:14<00:00,  1.28it/s, Loss=0.205] \n",
      "Epoch 1/6: 100%|██████████| 562/562 [02:00<00:00,  4.66it/s, Loss=0.173]\n"
     ]
    },
    {
     "name": "stdout",
     "output_type": "stream",
     "text": [
      "Epoch 1/6 | Training Loss: 0.2234 | Validation Loss: 0.1725 | Mean Validation AUC: 0.6989\n"
     ]
    },
    {
     "name": "stderr",
     "output_type": "stream",
     "text": [
      "Epoch 2/6: 100%|██████████| 2246/2246 [29:10<00:00,  1.28it/s, Loss=0.2]   \n",
      "Epoch 2/6: 100%|██████████| 562/562 [01:59<00:00,  4.72it/s, Loss=0.18] \n"
     ]
    },
    {
     "name": "stdout",
     "output_type": "stream",
     "text": [
      "Epoch 2/6 | Training Loss: 0.1692 | Validation Loss: 0.1698 | Mean Validation AUC: 0.7281\n"
     ]
    },
    {
     "name": "stderr",
     "output_type": "stream",
     "text": [
      "Epoch 3/6: 100%|██████████| 2246/2246 [29:10<00:00,  1.28it/s, Loss=0.0979]\n",
      "Epoch 3/6: 100%|██████████| 562/562 [01:58<00:00,  4.74it/s, Loss=0.166] \n"
     ]
    },
    {
     "name": "stdout",
     "output_type": "stream",
     "text": [
      "Epoch 3/6 | Training Loss: 0.1664 | Validation Loss: 0.1678 | Mean Validation AUC: 0.7426\n"
     ]
    },
    {
     "name": "stderr",
     "output_type": "stream",
     "text": [
      "Epoch 4/6: 100%|██████████| 2246/2246 [29:10<00:00,  1.28it/s, Loss=0.194] \n",
      "Epoch 4/6: 100%|██████████| 562/562 [01:59<00:00,  4.72it/s, Loss=0.174]\n"
     ]
    },
    {
     "name": "stdout",
     "output_type": "stream",
     "text": [
      "Epoch 4/6 | Training Loss: 0.1640 | Validation Loss: 0.1657 | Mean Validation AUC: 0.7546\n"
     ]
    },
    {
     "name": "stderr",
     "output_type": "stream",
     "text": [
      "Epoch 5/6: 100%|██████████| 2246/2246 [29:13<00:00,  1.28it/s, Loss=0.201] \n",
      "Epoch 5/6: 100%|██████████| 562/562 [01:59<00:00,  4.72it/s, Loss=0.165] \n"
     ]
    },
    {
     "name": "stdout",
     "output_type": "stream",
     "text": [
      "Epoch 5/6 | Training Loss: 0.1620 | Validation Loss: 0.1642 | Mean Validation AUC: 0.7627\n"
     ]
    },
    {
     "name": "stderr",
     "output_type": "stream",
     "text": [
      "Epoch 6/6: 100%|██████████| 2246/2246 [29:09<00:00,  1.28it/s, Loss=0.146] \n",
      "Epoch 6/6: 100%|██████████| 562/562 [01:59<00:00,  4.72it/s, Loss=0.174]\n"
     ]
    },
    {
     "name": "stdout",
     "output_type": "stream",
     "text": [
      "Epoch 6/6 | Training Loss: 0.1605 | Validation Loss: 0.1634 | Mean Validation AUC: 0.7662\n"
     ]
    }
   ],
   "source": [
    "def train_model(model, train_loader, val_loader, criterion, optimizer, epochs=10):\n",
    "\n",
    "    \"\"\"\n",
    "    Trains the model and evaluates it on the validation set after each epoch.\n",
    "    \"\"\"\n",
    "    # List to store loss and AUC\n",
    "    train_losses = []\n",
    "    val_losses = []\n",
    "    val_aucs = []\n",
    "\n",
    "    for epoch in range(epochs):\n",
    "\n",
    "        # Training\n",
    "        model.train()\n",
    "        train_loss = 0.0\n",
    "\n",
    "        # Progress bar\n",
    "        progress_bar = tqdm(train_loader, desc=f\"Epoch {epoch+1}/{epochs}\")\n",
    "\n",
    "        for inputs, labels in progress_bar:\n",
    "            inputs, labels = inputs.to(device), labels.to(device)\n",
    "\n",
    "            # Clear gradients\n",
    "            optimizer.zero_grad()\n",
    "\n",
    "            # Forward pass\n",
    "            outputs = model(inputs)\n",
    "\n",
    "            # Compute loss\n",
    "            loss = criterion(outputs, labels)\n",
    "\n",
    "            # Backward pass\n",
    "            loss.backward()\n",
    "\n",
    "            # Update weights\n",
    "            optimizer.step()\n",
    "\n",
    "            # Update learning rates per batch\n",
    "            scheduler.step()\n",
    "\n",
    "            train_loss += loss.item() * inputs.size(0)\n",
    "            progress_bar.set_postfix({\"Loss\": loss.item()})\n",
    "\n",
    "        # Calculate average training loss\n",
    "        train_loss /= len(train_loader.dataset)\n",
    "        train_losses.append(train_loss)\n",
    "\n",
    "        # Validation\n",
    "        model.eval()\n",
    "        val_loss = 0.0\n",
    "        all_labels = []\n",
    "        all_preds = []\n",
    "\n",
    "        # Progress bar\n",
    "        progress_bar = tqdm(val_loader, desc=f\"Epoch {epoch+1}/{epochs}\")\n",
    "\n",
    "        # Disable gradients for evaluation\n",
    "        with torch.no_grad():\n",
    "            for inputs, labels in progress_bar:\n",
    "                inputs, labels = inputs.to(device), labels.to(device)\n",
    "\n",
    "                # Forward pass\n",
    "                outputs = model(inputs)\n",
    "\n",
    "                # Compute loss\n",
    "                loss = criterion(outputs, labels)\n",
    "                val_loss += loss.item() * inputs.size(0)\n",
    "\n",
    "                # Apply sigmoid\n",
    "                preds = torch.sigmoid(outputs).cpu()\n",
    "\n",
    "                # Store predictions and true labels\n",
    "                all_preds.append(preds)\n",
    "                all_labels.append(labels.cpu())\n",
    "                \n",
    "                progress_bar.set_postfix({\"Loss\": loss.item()})\n",
    "\n",
    "        # Calculate average validation loss\n",
    "        val_loss /= len(val_loader.dataset)\n",
    "        val_losses.append(val_loss)\n",
    "\n",
    "        # Concatenate all batches\n",
    "        preds = torch.cat(all_preds)\n",
    "        labels = torch.cat(all_labels)\n",
    "    \n",
    "        roc_auc_per_label = []\n",
    "\n",
    "        # Compute metrics for each label\n",
    "        for i, label in enumerate(disease_labels):\n",
    "\n",
    "            # Calculate ROC AUC\n",
    "            roc_auc = roc_auc_score(labels[:, i].numpy(), preds[:, i].numpy())\n",
    "\n",
    "            roc_auc_per_label.append(roc_auc)\n",
    "\n",
    "        # Calculate and add overall metrics\n",
    "        mean_auc = np.mean(roc_auc_per_label)\n",
    "        val_aucs.append(mean_auc)\n",
    "        \n",
    "        print(f\"Epoch {epoch+1}/{epochs} | Training Loss: {train_loss:.4f} | \"\n",
    "              f\"Validation Loss: {val_loss:.4f} | Mean Validation AUC: {mean_auc:.4f}\")\n",
    "\n",
    "    return train_losses, val_losses, val_aucs\n",
    "\n",
    "# Train the model for the desired number of epochs\n",
    "train_losses, val_losses, val_aucs = train_model(model, train_loader, val_loader, criterion, optimizer, epochs=EPOCHS)"
   ]
  },
  {
   "cell_type": "markdown",
   "metadata": {},
   "source": [
    "# **Step 9: Evaluate the Model**"
   ]
  },
  {
   "cell_type": "code",
   "execution_count": 27,
   "metadata": {},
   "outputs": [
    {
     "name": "stderr",
     "output_type": "stream",
     "text": [
      "Evaluating on Test Set: 100%|██████████| 697/697 [03:09<00:00,  3.67it/s]\n"
     ]
    }
   ],
   "source": [
    "def evaluate_model(model, test_loader):\n",
    "    \"\"\"\n",
    "    Evaluates the model on the test set and returns predictions and true labels.\n",
    "    \"\"\"\n",
    "    model.eval()\n",
    "    all_preds = []\n",
    "    all_labels = []\n",
    "\n",
    "    # Progress bar\n",
    "    progress_bar = tqdm(test_loader, desc=\"Evaluating on Test Set\")\n",
    "\n",
    "    # Disable gradients for evaluation\n",
    "    with torch.no_grad():\n",
    "        for inputs, labels in progress_bar:\n",
    "            inputs = inputs.to(device)\n",
    "\n",
    "            # Forward pass\n",
    "            outputs = model(inputs)\n",
    "\n",
    "            # Apply sigmoid\n",
    "            preds = torch.sigmoid(outputs).cpu()\n",
    "\n",
    "            # Store predictions and true labels\n",
    "            all_preds.append(preds)\n",
    "            all_labels.append(labels)\n",
    "\n",
    "    # Concatenate all batches\n",
    "    preds = torch.cat(all_preds)\n",
    "    labels = torch.cat(all_labels)\n",
    "    return preds, labels\n",
    "\n",
    "# Get predictions and true labels\n",
    "preds, labels = evaluate_model(model, test_loader)"
   ]
  },
  {
   "cell_type": "markdown",
   "metadata": {},
   "source": [
    "**Compute Metrics for Each Label**"
   ]
  },
  {
   "cell_type": "code",
   "execution_count": 28,
   "metadata": {},
   "outputs": [
    {
     "name": "stdout",
     "output_type": "stream",
     "text": [
      "                    Accuracy   ROC AUC\n",
      "Atelectasis         0.901050  0.744776\n",
      "Consolidation       0.957343  0.774381\n",
      "Infiltration        0.816049  0.678106\n",
      "Pneumothorax        0.954203  0.789798\n",
      "Edema               0.979636  0.880720\n",
      "Emphysema           0.976182  0.786664\n",
      "Fibrosis            0.983673  0.719240\n",
      "Effusion            0.891675  0.825801\n",
      "Pneumonia           0.986813  0.701104\n",
      "Pleural_Thickening  0.970396  0.719625\n",
      "Cardiomegaly        0.972190  0.817740\n",
      "Nodule              0.942585  0.632595\n",
      "Mass                0.951781  0.711004\n",
      "Hernia              0.997847  0.833917\n",
      "Overall             0.948673  0.758248\n"
     ]
    }
   ],
   "source": [
    "# Initialize dictionaries for metrics\n",
    "accuracy_per_label = {}\n",
    "roc_auc_per_label = {}\n",
    "\n",
    "# Compute metrics for each label\n",
    "for i, label in enumerate(disease_labels):\n",
    "    \n",
    "    # Binarize predictions with threshold 0.5\n",
    "    binary_preds = preds[:, i] > 0.5\n",
    "\n",
    "    # Calculate accuracy\n",
    "    acc = accuracy_score(labels[:, i], binary_preds)\n",
    "\n",
    "    # Calculate ROC AUC\n",
    "    roc_auc = roc_auc_score(labels[:, i], preds[:, i])\n",
    "\n",
    "    # Store metrics\n",
    "    accuracy_per_label[label] = acc\n",
    "    roc_auc_per_label[label] = roc_auc\n",
    "\n",
    "# Create a DataFrame for metrics\n",
    "metrics_df = pd.DataFrame({\n",
    "    'Accuracy': accuracy_per_label,\n",
    "    'ROC AUC': roc_auc_per_label\n",
    "})\n",
    "\n",
    "# Calculate and add overall metrics\n",
    "overall_roc_auc = metrics_df['ROC AUC'].mean()\n",
    "metrics_df.loc['Overall'] = metrics_df.mean()\n",
    "\n",
    "# Display metrics\n",
    "print(metrics_df)"
   ]
  },
  {
   "cell_type": "markdown",
   "metadata": {},
   "source": [
    "**Plot ROC curves for each label**"
   ]
  },
  {
   "cell_type": "code",
   "execution_count": 29,
   "metadata": {},
   "outputs": [
    {
     "data": {
      "image/png": "[encoded data removed]",
      "text/plain": [
       "<Figure size 1200x800 with 1 Axes>"
      ]
     },
     "metadata": {},
     "output_type": "display_data"
    }
   ],
   "source": [
    "# Plot ROC curves\n",
    "plt.figure(figsize=(12, 8))\n",
    "for i, label in enumerate(disease_labels):\n",
    "    fpr, tpr, _ = roc_curve(labels[:, i], preds[:, i])\n",
    "    plt.plot(fpr, tpr, label=f\"{label} (AUC = {roc_auc_per_label[label]:.2f})\")\n",
    "\n",
    "plt.plot([0, 1], [0, 1], 'k--', label=\"Random Guess\")\n",
    "plt.xlabel('False Positive Rate')\n",
    "plt.ylabel('True Positive Rate')\n",
    "plt.title('ROC Curves for Each Disease Label')\n",
    "plt.legend(loc='lower right')\n",
    "plt.show()"
   ]
  },
  {
   "cell_type": "markdown",
   "metadata": {},
   "source": [
    "**Plot Training and Validation Loss**"
   ]
  },
  {
   "cell_type": "code",
   "execution_count": 30,
   "metadata": {},
   "outputs": [
    {
     "data": {
      "image/png": "[encoded data removed]",
      "text/plain": [
       "<Figure size 1000x600 with 1 Axes>"
      ]
     },
     "metadata": {},
     "output_type": "display_data"
    }
   ],
   "source": [
    "plt.figure(figsize=(10, 6))\n",
    "plt.plot(train_losses, label='Training Loss')\n",
    "plt.plot(val_losses, label='Validation Loss')\n",
    "plt.xlabel('Epoch')\n",
    "plt.ylabel('Loss')\n",
    "plt.title('Training and Validation Loss Over Epochs')\n",
    "plt.legend()\n",
    "plt.grid(True)\n",
    "plt.show()"
   ]
  },
  {
   "cell_type": "markdown",
   "metadata": {},
   "source": [
    "**Plot Validation AUC**"
   ]
  },
  {
   "cell_type": "code",
   "execution_count": 31,
   "metadata": {},
   "outputs": [
    {
     "data": {
      "image/png": "[encoded data removed]",
      "text/plain": [
       "<Figure size 1000x600 with 1 Axes>"
      ]
     },
     "metadata": {},
     "output_type": "display_data"
    }
   ],
   "source": [
    "plt.figure(figsize=(10, 6))\n",
    "plt.plot(val_aucs, label='Validation AUC')\n",
    "plt.xlabel('Epoch')\n",
    "plt.ylabel('AUC')\n",
    "plt.title('Validation ROC AUC Over Epochs')\n",
    "plt.legend()\n",
    "plt.grid(True)\n",
    "plt.show()"
   ]
  }
 ],
 "metadata": {
  "kernelspec": {
   "display_name": "master_thesis",
   "language": "python",
   "name": "master_thesis"
  },
  "language_info": {
   "codemirror_mode": {
    "name": "ipython",
    "version": 3
   },
   "file_extension": ".py",
   "mimetype": "text/x-python",
   "name": "python",
   "nbconvert_exporter": "python",
   "pygments_lexer": "ipython3",
   "version": "3.11.10"
  }
 },
 "nbformat": 4,
 "nbformat_minor": 2
}
